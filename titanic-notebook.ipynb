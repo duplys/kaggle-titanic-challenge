{
 "cells": [
  {
   "cell_type": "markdown",
   "id": "76bc3548",
   "metadata": {
    "papermill": {
     "duration": 0.006725,
     "end_time": "2024-11-04T19:26:57.084752",
     "exception": false,
     "start_time": "2024-11-04T19:26:57.078027",
     "status": "completed"
    },
    "tags": []
   },
   "source": [
    "# Titanic Notebook\n",
    "\n",
    "This notebook is based on the excellent [Titanic Tutorial](https://www.kaggle.com/code/alexisbcook/titanic-tutorial) by [Alexis Cook](https://www.kaggle.com/alexisbcook). After running Alexis's code and making the initial submission, I started to explore ways for improving the prediction accuracy."
   ]
  },
  {
   "cell_type": "markdown",
   "id": "fc3e0724",
   "metadata": {
    "papermill": {
     "duration": 0.006099,
     "end_time": "2024-11-04T19:26:57.097207",
     "exception": false,
     "start_time": "2024-11-04T19:26:57.091108",
     "status": "completed"
    },
    "tags": []
   },
   "source": [
    "## Ideas for improving prediction accuracy\n",
    "\n",
    "**Augmenting missing data.** Titanic's training data is composed of 891 entries and test data is composed of 418 entries. A number of the 891 entries in Titanic's training data are missing some information, most notably:\n",
    "* the `Age` column, for which only 714 entries are non-null entries, and\n",
    "* the `Cabin` column, for which only 204 entries are non-null entries.\n",
    "\n",
    "Presumably &mdash; something we should confirm during the exploratory data analysis &mdash; the **age** of a passenger impacts their chances of survival.\n",
    "\n",
    "The **cabin** of a passenger could also have an effect on their survival chances. According to [Wikipedia article on the sinking of the Titanic](https://en.wikipedia.org/wiki/Sinking_of_the_Titanic), the ship sank at 02:20 (ship's time) on 15 April 1912 after stricking an iceberg at 23:40 on 14 April. If the ship struck the iceberg 20 minutes before midnight, chances are that most passengers were in their cabins. Later on, when the ship sank, it might have been challenging to escape from cabins located in the ship's hull.\n",
    "\n",
    "Section [Survivors and victims](https://en.wikipedia.org/wiki/Titanic#Survivors_and_victims) in the Wikipedia's article states that the survival rates show stark differences for different classes aboard Titanic:\n",
    "\n",
    "> Although only 3% of first-class women were lost, 54% of those in third-class died. Similarly, five of six first-class and all second-class children survived, but 52 of the 79 in third-class perished. The differences by gender were even bigger: nearly all female crew members, first- and second-class passengers were saved. Men from the First Class died at a higher rate than women from the Third Class. In total, 50% of the children survived, 20% of the men and 75% of the women.\n",
    "\n",
    "So, let's augment the missing data.\n",
    "\n",
    "**Tuning hyperparameters.** tbd"
   ]
  },
  {
   "cell_type": "markdown",
   "id": "944d5bf9",
   "metadata": {
    "papermill": {
     "duration": 0.006136,
     "end_time": "2024-11-04T19:26:57.109712",
     "exception": false,
     "start_time": "2024-11-04T19:26:57.103576",
     "status": "completed"
    },
    "tags": []
   },
   "source": [
    "# Load Data\n",
    "First things first, let's load the data."
   ]
  },
  {
   "cell_type": "code",
   "execution_count": 1,
   "id": "4ec3efe3",
   "metadata": {
    "_cell_guid": "b1076dfc-b9ad-4769-8c92-a6c4dae69d19",
    "_uuid": "8f2839f25d086af736a60e9eeb907d3b93b6e0e5",
    "execution": {
     "iopub.execute_input": "2024-11-04T19:26:57.124724Z",
     "iopub.status.busy": "2024-11-04T19:26:57.123875Z",
     "iopub.status.idle": "2024-11-04T19:26:58.163292Z",
     "shell.execute_reply": "2024-11-04T19:26:58.162075Z"
    },
    "papermill": {
     "duration": 1.050286,
     "end_time": "2024-11-04T19:26:58.166222",
     "exception": false,
     "start_time": "2024-11-04T19:26:57.115936",
     "status": "completed"
    },
    "tags": []
   },
   "outputs": [
    {
     "name": "stdout",
     "output_type": "stream",
     "text": [
      "/kaggle/input/titanic/train.csv\n",
      "/kaggle/input/titanic/test.csv\n",
      "/kaggle/input/titanic/gender_submission.csv\n"
     ]
    }
   ],
   "source": [
    "# This Python 3 environment comes with many helpful analytic s libraries installed\n",
    "# It is defined by the kaggle/python Docker image: https://github.com/kaggle/docker-python\n",
    "# For example, here's several helpful packages to load\n",
    "\n",
    "import numpy as np # linear algebra\n",
    "import pandas as pd # data processing, CSV file I/O (e.g. pd.read_csv)\n",
    "\n",
    "# Input data files are available in the read-only \"../input/\" directory\n",
    "# For example, running this (by clicking run or pressing Shift+Enter) will list all files under the input directory\n",
    "\n",
    "import os\n",
    "for dirname, _, filenames in os.walk('/kaggle/input'):\n",
    "    for filename in filenames:\n",
    "        print(os.path.join(dirname, filename))\n",
    "\n",
    "# You can write up to 20GB to the current directory (/kaggle/working/) that gets preserved as output when you create a version using \"Save & Run All\" \n",
    "# You can also write temporary files to /kaggle/temp/, but they won't be saved outside of the current session\n"
   ]
  },
  {
   "cell_type": "markdown",
   "id": "2ef3ec14",
   "metadata": {
    "papermill": {
     "duration": 0.006571,
     "end_time": "2024-11-04T19:26:58.180108",
     "exception": false,
     "start_time": "2024-11-04T19:26:58.173537",
     "status": "completed"
    },
    "tags": []
   },
   "source": [
    "# Exploratory Data Analysis\n",
    "\n",
    "Let's take a look at the training data and the test data."
   ]
  },
  {
   "cell_type": "code",
   "execution_count": 2,
   "id": "d59abc08",
   "metadata": {
    "execution": {
     "iopub.execute_input": "2024-11-04T19:26:58.197690Z",
     "iopub.status.busy": "2024-11-04T19:26:58.197059Z",
     "iopub.status.idle": "2024-11-04T19:26:58.248569Z",
     "shell.execute_reply": "2024-11-04T19:26:58.247381Z"
    },
    "papermill": {
     "duration": 0.063842,
     "end_time": "2024-11-04T19:26:58.250930",
     "exception": false,
     "start_time": "2024-11-04T19:26:58.187088",
     "status": "completed"
    },
    "tags": []
   },
   "outputs": [
    {
     "data": {
      "text/html": [
       "<div>\n",
       "<style scoped>\n",
       "    .dataframe tbody tr th:only-of-type {\n",
       "        vertical-align: middle;\n",
       "    }\n",
       "\n",
       "    .dataframe tbody tr th {\n",
       "        vertical-align: top;\n",
       "    }\n",
       "\n",
       "    .dataframe thead th {\n",
       "        text-align: right;\n",
       "    }\n",
       "</style>\n",
       "<table border=\"1\" class=\"dataframe\">\n",
       "  <thead>\n",
       "    <tr style=\"text-align: right;\">\n",
       "      <th></th>\n",
       "      <th>PassengerId</th>\n",
       "      <th>Survived</th>\n",
       "      <th>Pclass</th>\n",
       "      <th>Name</th>\n",
       "      <th>Sex</th>\n",
       "      <th>Age</th>\n",
       "      <th>SibSp</th>\n",
       "      <th>Parch</th>\n",
       "      <th>Ticket</th>\n",
       "      <th>Fare</th>\n",
       "      <th>Cabin</th>\n",
       "      <th>Embarked</th>\n",
       "    </tr>\n",
       "  </thead>\n",
       "  <tbody>\n",
       "    <tr>\n",
       "      <th>0</th>\n",
       "      <td>1</td>\n",
       "      <td>0</td>\n",
       "      <td>3</td>\n",
       "      <td>Braund, Mr. Owen Harris</td>\n",
       "      <td>male</td>\n",
       "      <td>22.0</td>\n",
       "      <td>1</td>\n",
       "      <td>0</td>\n",
       "      <td>A/5 21171</td>\n",
       "      <td>7.2500</td>\n",
       "      <td>NaN</td>\n",
       "      <td>S</td>\n",
       "    </tr>\n",
       "    <tr>\n",
       "      <th>1</th>\n",
       "      <td>2</td>\n",
       "      <td>1</td>\n",
       "      <td>1</td>\n",
       "      <td>Cumings, Mrs. John Bradley (Florence Briggs Th...</td>\n",
       "      <td>female</td>\n",
       "      <td>38.0</td>\n",
       "      <td>1</td>\n",
       "      <td>0</td>\n",
       "      <td>PC 17599</td>\n",
       "      <td>71.2833</td>\n",
       "      <td>C85</td>\n",
       "      <td>C</td>\n",
       "    </tr>\n",
       "    <tr>\n",
       "      <th>2</th>\n",
       "      <td>3</td>\n",
       "      <td>1</td>\n",
       "      <td>3</td>\n",
       "      <td>Heikkinen, Miss. Laina</td>\n",
       "      <td>female</td>\n",
       "      <td>26.0</td>\n",
       "      <td>0</td>\n",
       "      <td>0</td>\n",
       "      <td>STON/O2. 3101282</td>\n",
       "      <td>7.9250</td>\n",
       "      <td>NaN</td>\n",
       "      <td>S</td>\n",
       "    </tr>\n",
       "    <tr>\n",
       "      <th>3</th>\n",
       "      <td>4</td>\n",
       "      <td>1</td>\n",
       "      <td>1</td>\n",
       "      <td>Futrelle, Mrs. Jacques Heath (Lily May Peel)</td>\n",
       "      <td>female</td>\n",
       "      <td>35.0</td>\n",
       "      <td>1</td>\n",
       "      <td>0</td>\n",
       "      <td>113803</td>\n",
       "      <td>53.1000</td>\n",
       "      <td>C123</td>\n",
       "      <td>S</td>\n",
       "    </tr>\n",
       "    <tr>\n",
       "      <th>4</th>\n",
       "      <td>5</td>\n",
       "      <td>0</td>\n",
       "      <td>3</td>\n",
       "      <td>Allen, Mr. William Henry</td>\n",
       "      <td>male</td>\n",
       "      <td>35.0</td>\n",
       "      <td>0</td>\n",
       "      <td>0</td>\n",
       "      <td>373450</td>\n",
       "      <td>8.0500</td>\n",
       "      <td>NaN</td>\n",
       "      <td>S</td>\n",
       "    </tr>\n",
       "  </tbody>\n",
       "</table>\n",
       "</div>"
      ],
      "text/plain": [
       "   PassengerId  Survived  Pclass  \\\n",
       "0            1         0       3   \n",
       "1            2         1       1   \n",
       "2            3         1       3   \n",
       "3            4         1       1   \n",
       "4            5         0       3   \n",
       "\n",
       "                                                Name     Sex   Age  SibSp  \\\n",
       "0                            Braund, Mr. Owen Harris    male  22.0      1   \n",
       "1  Cumings, Mrs. John Bradley (Florence Briggs Th...  female  38.0      1   \n",
       "2                             Heikkinen, Miss. Laina  female  26.0      0   \n",
       "3       Futrelle, Mrs. Jacques Heath (Lily May Peel)  female  35.0      1   \n",
       "4                           Allen, Mr. William Henry    male  35.0      0   \n",
       "\n",
       "   Parch            Ticket     Fare Cabin Embarked  \n",
       "0      0         A/5 21171   7.2500   NaN        S  \n",
       "1      0          PC 17599  71.2833   C85        C  \n",
       "2      0  STON/O2. 3101282   7.9250   NaN        S  \n",
       "3      0            113803  53.1000  C123        S  \n",
       "4      0            373450   8.0500   NaN        S  "
      ]
     },
     "execution_count": 2,
     "metadata": {},
     "output_type": "execute_result"
    }
   ],
   "source": [
    "train_data = pd.read_csv(\"/kaggle/input/titanic/train.csv\")\n",
    "train_data.head()"
   ]
  },
  {
   "cell_type": "code",
   "execution_count": 3,
   "id": "a360ab04",
   "metadata": {
    "execution": {
     "iopub.execute_input": "2024-11-04T19:26:58.266534Z",
     "iopub.status.busy": "2024-11-04T19:26:58.266121Z",
     "iopub.status.idle": "2024-11-04T19:26:58.293781Z",
     "shell.execute_reply": "2024-11-04T19:26:58.292327Z"
    },
    "papermill": {
     "duration": 0.038905,
     "end_time": "2024-11-04T19:26:58.297051",
     "exception": false,
     "start_time": "2024-11-04T19:26:58.258146",
     "status": "completed"
    },
    "tags": []
   },
   "outputs": [
    {
     "data": {
      "text/html": [
       "<div>\n",
       "<style scoped>\n",
       "    .dataframe tbody tr th:only-of-type {\n",
       "        vertical-align: middle;\n",
       "    }\n",
       "\n",
       "    .dataframe tbody tr th {\n",
       "        vertical-align: top;\n",
       "    }\n",
       "\n",
       "    .dataframe thead th {\n",
       "        text-align: right;\n",
       "    }\n",
       "</style>\n",
       "<table border=\"1\" class=\"dataframe\">\n",
       "  <thead>\n",
       "    <tr style=\"text-align: right;\">\n",
       "      <th></th>\n",
       "      <th>PassengerId</th>\n",
       "      <th>Pclass</th>\n",
       "      <th>Name</th>\n",
       "      <th>Sex</th>\n",
       "      <th>Age</th>\n",
       "      <th>SibSp</th>\n",
       "      <th>Parch</th>\n",
       "      <th>Ticket</th>\n",
       "      <th>Fare</th>\n",
       "      <th>Cabin</th>\n",
       "      <th>Embarked</th>\n",
       "    </tr>\n",
       "  </thead>\n",
       "  <tbody>\n",
       "    <tr>\n",
       "      <th>0</th>\n",
       "      <td>892</td>\n",
       "      <td>3</td>\n",
       "      <td>Kelly, Mr. James</td>\n",
       "      <td>male</td>\n",
       "      <td>34.5</td>\n",
       "      <td>0</td>\n",
       "      <td>0</td>\n",
       "      <td>330911</td>\n",
       "      <td>7.8292</td>\n",
       "      <td>NaN</td>\n",
       "      <td>Q</td>\n",
       "    </tr>\n",
       "    <tr>\n",
       "      <th>1</th>\n",
       "      <td>893</td>\n",
       "      <td>3</td>\n",
       "      <td>Wilkes, Mrs. James (Ellen Needs)</td>\n",
       "      <td>female</td>\n",
       "      <td>47.0</td>\n",
       "      <td>1</td>\n",
       "      <td>0</td>\n",
       "      <td>363272</td>\n",
       "      <td>7.0000</td>\n",
       "      <td>NaN</td>\n",
       "      <td>S</td>\n",
       "    </tr>\n",
       "    <tr>\n",
       "      <th>2</th>\n",
       "      <td>894</td>\n",
       "      <td>2</td>\n",
       "      <td>Myles, Mr. Thomas Francis</td>\n",
       "      <td>male</td>\n",
       "      <td>62.0</td>\n",
       "      <td>0</td>\n",
       "      <td>0</td>\n",
       "      <td>240276</td>\n",
       "      <td>9.6875</td>\n",
       "      <td>NaN</td>\n",
       "      <td>Q</td>\n",
       "    </tr>\n",
       "    <tr>\n",
       "      <th>3</th>\n",
       "      <td>895</td>\n",
       "      <td>3</td>\n",
       "      <td>Wirz, Mr. Albert</td>\n",
       "      <td>male</td>\n",
       "      <td>27.0</td>\n",
       "      <td>0</td>\n",
       "      <td>0</td>\n",
       "      <td>315154</td>\n",
       "      <td>8.6625</td>\n",
       "      <td>NaN</td>\n",
       "      <td>S</td>\n",
       "    </tr>\n",
       "    <tr>\n",
       "      <th>4</th>\n",
       "      <td>896</td>\n",
       "      <td>3</td>\n",
       "      <td>Hirvonen, Mrs. Alexander (Helga E Lindqvist)</td>\n",
       "      <td>female</td>\n",
       "      <td>22.0</td>\n",
       "      <td>1</td>\n",
       "      <td>1</td>\n",
       "      <td>3101298</td>\n",
       "      <td>12.2875</td>\n",
       "      <td>NaN</td>\n",
       "      <td>S</td>\n",
       "    </tr>\n",
       "  </tbody>\n",
       "</table>\n",
       "</div>"
      ],
      "text/plain": [
       "   PassengerId  Pclass                                          Name     Sex  \\\n",
       "0          892       3                              Kelly, Mr. James    male   \n",
       "1          893       3              Wilkes, Mrs. James (Ellen Needs)  female   \n",
       "2          894       2                     Myles, Mr. Thomas Francis    male   \n",
       "3          895       3                              Wirz, Mr. Albert    male   \n",
       "4          896       3  Hirvonen, Mrs. Alexander (Helga E Lindqvist)  female   \n",
       "\n",
       "    Age  SibSp  Parch   Ticket     Fare Cabin Embarked  \n",
       "0  34.5      0      0   330911   7.8292   NaN        Q  \n",
       "1  47.0      1      0   363272   7.0000   NaN        S  \n",
       "2  62.0      0      0   240276   9.6875   NaN        Q  \n",
       "3  27.0      0      0   315154   8.6625   NaN        S  \n",
       "4  22.0      1      1  3101298  12.2875   NaN        S  "
      ]
     },
     "execution_count": 3,
     "metadata": {},
     "output_type": "execute_result"
    }
   ],
   "source": [
    "test_data = pd.read_csv(\"/kaggle/input/titanic/test.csv\")\n",
    "test_data.head()"
   ]
  },
  {
   "cell_type": "markdown",
   "id": "9de1c365",
   "metadata": {
    "papermill": {
     "duration": 0.006789,
     "end_time": "2024-11-04T19:26:58.313131",
     "exception": false,
     "start_time": "2024-11-04T19:26:58.306342",
     "status": "completed"
    },
    "tags": []
   },
   "source": [
    "The first observation from Alexis tutorial is that the survival rate of women are much higher than that of men:"
   ]
  },
  {
   "cell_type": "code",
   "execution_count": 4,
   "id": "4a82e445",
   "metadata": {
    "execution": {
     "iopub.execute_input": "2024-11-04T19:26:58.330191Z",
     "iopub.status.busy": "2024-11-04T19:26:58.329373Z",
     "iopub.status.idle": "2024-11-04T19:26:58.345582Z",
     "shell.execute_reply": "2024-11-04T19:26:58.343788Z"
    },
    "papermill": {
     "duration": 0.028081,
     "end_time": "2024-11-04T19:26:58.348493",
     "exception": false,
     "start_time": "2024-11-04T19:26:58.320412",
     "status": "completed"
    },
    "tags": []
   },
   "outputs": [
    {
     "name": "stdout",
     "output_type": "stream",
     "text": [
      "% of women who survived: 0.7420382165605095\n",
      "% of men who survived: 0.18890814558058924\n"
     ]
    }
   ],
   "source": [
    "women = train_data.loc[train_data.Sex == 'female'][\"Survived\"]\n",
    "rate_women = sum(women)/len(women)\n",
    "men = train_data.loc[train_data.Sex == 'male'][\"Survived\"]\n",
    "rate_men = sum(men)/len(men)\n",
    "\n",
    "print(\"% of women who survived:\", rate_women)\n",
    "print(\"% of men who survived:\", rate_men)"
   ]
  },
  {
   "cell_type": "markdown",
   "id": "9e22c4cd",
   "metadata": {
    "papermill": {
     "duration": 0.007388,
     "end_time": "2024-11-04T19:26:58.363140",
     "exception": false,
     "start_time": "2024-11-04T19:26:58.355752",
     "status": "completed"
    },
    "tags": []
   },
   "source": [
    "Next, let's check whether we have entries with missing values (`NaN`) in our training data."
   ]
  },
  {
   "cell_type": "code",
   "execution_count": 5,
   "id": "7968b2e3",
   "metadata": {
    "execution": {
     "iopub.execute_input": "2024-11-04T19:26:58.379626Z",
     "iopub.status.busy": "2024-11-04T19:26:58.379213Z",
     "iopub.status.idle": "2024-11-04T19:26:58.409485Z",
     "shell.execute_reply": "2024-11-04T19:26:58.408204Z"
    },
    "papermill": {
     "duration": 0.042361,
     "end_time": "2024-11-04T19:26:58.413066",
     "exception": false,
     "start_time": "2024-11-04T19:26:58.370705",
     "status": "completed"
    },
    "tags": []
   },
   "outputs": [
    {
     "name": "stdout",
     "output_type": "stream",
     "text": [
      "<class 'pandas.core.frame.DataFrame'>\n",
      "RangeIndex: 891 entries, 0 to 890\n",
      "Data columns (total 12 columns):\n",
      " #   Column       Non-Null Count  Dtype  \n",
      "---  ------       --------------  -----  \n",
      " 0   PassengerId  891 non-null    int64  \n",
      " 1   Survived     891 non-null    int64  \n",
      " 2   Pclass       891 non-null    int64  \n",
      " 3   Name         891 non-null    object \n",
      " 4   Sex          891 non-null    object \n",
      " 5   Age          714 non-null    float64\n",
      " 6   SibSp        891 non-null    int64  \n",
      " 7   Parch        891 non-null    int64  \n",
      " 8   Ticket       891 non-null    object \n",
      " 9   Fare         891 non-null    float64\n",
      " 10  Cabin        204 non-null    object \n",
      " 11  Embarked     889 non-null    object \n",
      "dtypes: float64(2), int64(5), object(5)\n",
      "memory usage: 83.7+ KB\n"
     ]
    }
   ],
   "source": [
    "# How many NaNs do we have in our training data?\n",
    "train_data.info()"
   ]
  },
  {
   "cell_type": "code",
   "execution_count": 6,
   "id": "b65108f5",
   "metadata": {
    "execution": {
     "iopub.execute_input": "2024-11-04T19:26:58.429791Z",
     "iopub.status.busy": "2024-11-04T19:26:58.429316Z",
     "iopub.status.idle": "2024-11-04T19:26:58.443012Z",
     "shell.execute_reply": "2024-11-04T19:26:58.441649Z"
    },
    "papermill": {
     "duration": 0.02671,
     "end_time": "2024-11-04T19:26:58.447186",
     "exception": false,
     "start_time": "2024-11-04T19:26:58.420476",
     "status": "completed"
    },
    "tags": []
   },
   "outputs": [
    {
     "name": "stdout",
     "output_type": "stream",
     "text": [
      "<class 'pandas.core.frame.DataFrame'>\n",
      "RangeIndex: 418 entries, 0 to 417\n",
      "Data columns (total 11 columns):\n",
      " #   Column       Non-Null Count  Dtype  \n",
      "---  ------       --------------  -----  \n",
      " 0   PassengerId  418 non-null    int64  \n",
      " 1   Pclass       418 non-null    int64  \n",
      " 2   Name         418 non-null    object \n",
      " 3   Sex          418 non-null    object \n",
      " 4   Age          332 non-null    float64\n",
      " 5   SibSp        418 non-null    int64  \n",
      " 6   Parch        418 non-null    int64  \n",
      " 7   Ticket       418 non-null    object \n",
      " 8   Fare         417 non-null    float64\n",
      " 9   Cabin        91 non-null     object \n",
      " 10  Embarked     418 non-null    object \n",
      "dtypes: float64(2), int64(4), object(5)\n",
      "memory usage: 36.0+ KB\n"
     ]
    }
   ],
   "source": [
    "# How many NaNs do we have in our test data?\n",
    "test_data.info()"
   ]
  },
  {
   "cell_type": "markdown",
   "id": "732079df",
   "metadata": {
    "papermill": {
     "duration": 0.006904,
     "end_time": "2024-11-04T19:26:58.461217",
     "exception": false,
     "start_time": "2024-11-04T19:26:58.454313",
     "status": "completed"
    },
    "tags": []
   },
   "source": [
    "So, let's see what the entries with missing age look like."
   ]
  },
  {
   "cell_type": "code",
   "execution_count": 7,
   "id": "da9abe1f",
   "metadata": {
    "execution": {
     "iopub.execute_input": "2024-11-04T19:26:58.478293Z",
     "iopub.status.busy": "2024-11-04T19:26:58.477891Z",
     "iopub.status.idle": "2024-11-04T19:26:58.482961Z",
     "shell.execute_reply": "2024-11-04T19:26:58.481605Z"
    },
    "papermill": {
     "duration": 0.015877,
     "end_time": "2024-11-04T19:26:58.485351",
     "exception": false,
     "start_time": "2024-11-04T19:26:58.469474",
     "status": "completed"
    },
    "tags": []
   },
   "outputs": [],
   "source": [
    "# Select all passengers where Age is null\n",
    "#train_data_no_age = train_data[train_data[\"Age\"].isnull()]\n",
    "\n",
    "#for index, row in train_data_no_age.iterrows():\n",
    "#    print(f\"Index: {index}, Values: {row.values}\") # or a custom format"
   ]
  },
  {
   "cell_type": "markdown",
   "id": "f31cdc47",
   "metadata": {
    "papermill": {
     "duration": 0.006864,
     "end_time": "2024-11-04T19:26:58.499343",
     "exception": false,
     "start_time": "2024-11-04T19:26:58.492479",
     "status": "completed"
    },
    "tags": []
   },
   "source": [
    "In addition, we see that the test data has one entry with missing value for \"Fare\". Using \"Fare\" as one of the features in our model seems like a reasonable idea because the ticket price indicates the ticket class. Since the cheaper tickets were on decks further down in the ship's hull, we can expect the survival rate to be linked to the ticket price. So, let's take a look at that entry."
   ]
  },
  {
   "cell_type": "code",
   "execution_count": 8,
   "id": "17e3301f",
   "metadata": {
    "execution": {
     "iopub.execute_input": "2024-11-04T19:26:58.515322Z",
     "iopub.status.busy": "2024-11-04T19:26:58.514898Z",
     "iopub.status.idle": "2024-11-04T19:26:58.534436Z",
     "shell.execute_reply": "2024-11-04T19:26:58.533302Z"
    },
    "papermill": {
     "duration": 0.03034,
     "end_time": "2024-11-04T19:26:58.536807",
     "exception": false,
     "start_time": "2024-11-04T19:26:58.506467",
     "status": "completed"
    },
    "tags": []
   },
   "outputs": [
    {
     "data": {
      "text/html": [
       "<div>\n",
       "<style scoped>\n",
       "    .dataframe tbody tr th:only-of-type {\n",
       "        vertical-align: middle;\n",
       "    }\n",
       "\n",
       "    .dataframe tbody tr th {\n",
       "        vertical-align: top;\n",
       "    }\n",
       "\n",
       "    .dataframe thead th {\n",
       "        text-align: right;\n",
       "    }\n",
       "</style>\n",
       "<table border=\"1\" class=\"dataframe\">\n",
       "  <thead>\n",
       "    <tr style=\"text-align: right;\">\n",
       "      <th></th>\n",
       "      <th>PassengerId</th>\n",
       "      <th>Pclass</th>\n",
       "      <th>Name</th>\n",
       "      <th>Sex</th>\n",
       "      <th>Age</th>\n",
       "      <th>SibSp</th>\n",
       "      <th>Parch</th>\n",
       "      <th>Ticket</th>\n",
       "      <th>Fare</th>\n",
       "      <th>Cabin</th>\n",
       "      <th>Embarked</th>\n",
       "    </tr>\n",
       "  </thead>\n",
       "  <tbody>\n",
       "    <tr>\n",
       "      <th>152</th>\n",
       "      <td>1044</td>\n",
       "      <td>3</td>\n",
       "      <td>Storey, Mr. Thomas</td>\n",
       "      <td>male</td>\n",
       "      <td>60.5</td>\n",
       "      <td>0</td>\n",
       "      <td>0</td>\n",
       "      <td>3701</td>\n",
       "      <td>NaN</td>\n",
       "      <td>NaN</td>\n",
       "      <td>S</td>\n",
       "    </tr>\n",
       "  </tbody>\n",
       "</table>\n",
       "</div>"
      ],
      "text/plain": [
       "     PassengerId  Pclass                Name   Sex   Age  SibSp  Parch Ticket  \\\n",
       "152         1044       3  Storey, Mr. Thomas  male  60.5      0      0   3701   \n",
       "\n",
       "     Fare Cabin Embarked  \n",
       "152   NaN   NaN        S  "
      ]
     },
     "execution_count": 8,
     "metadata": {},
     "output_type": "execute_result"
    }
   ],
   "source": [
    "# Select passengers from the test data where \"Fare\" is null\n",
    "test_data[test_data[\"Fare\"].isnull()].head()"
   ]
  },
  {
   "cell_type": "markdown",
   "id": "e38f0f65",
   "metadata": {
    "papermill": {
     "duration": 0.008688,
     "end_time": "2024-11-04T19:26:58.553149",
     "exception": false,
     "start_time": "2024-11-04T19:26:58.544461",
     "status": "completed"
    },
    "tags": []
   },
   "source": [
    "# Cleaning Data\n",
    "\n",
    "We've seen that some entries in training and test data have no values for \"Age\". Let's fix this. We will estimate missing age based on the passenger's title. We can do this by first calculating the median for passengers with different titles (e.g., Ms., Mrs., Mr.) and then setting the missing values to the corresponding median."
   ]
  },
  {
   "cell_type": "code",
   "execution_count": 9,
   "id": "db63b720",
   "metadata": {
    "execution": {
     "iopub.execute_input": "2024-11-04T19:26:58.570242Z",
     "iopub.status.busy": "2024-11-04T19:26:58.569780Z",
     "iopub.status.idle": "2024-11-04T19:26:58.594775Z",
     "shell.execute_reply": "2024-11-04T19:26:58.593491Z"
    },
    "papermill": {
     "duration": 0.036427,
     "end_time": "2024-11-04T19:26:58.597440",
     "exception": false,
     "start_time": "2024-11-04T19:26:58.561013",
     "status": "completed"
    },
    "tags": []
   },
   "outputs": [
    {
     "name": "stdout",
     "output_type": "stream",
     "text": [
      "{'Master': 3.5, 'Miss.': 21.0, 'Ms.': 28.0, 'Mrs.': 35.0, 'Mr.': 31.0, 'Dr.': 36.0}\n"
     ]
    }
   ],
   "source": [
    "title_age = {\"Master\": 0, \"Miss.\": 0, \"Ms.\": 0, \"Mrs.\": 0, \"Mr.\": 0, \"Dr.\": 0}\n",
    "\n",
    "for key in title_age:\n",
    "    age_data = train_data[(train_data['Name'].str.contains(key, na=False)) & (train_data['Age'].notnull())]\n",
    "    title_age[key] = age_data[\"Age\"].median()\n",
    "\n",
    "print(title_age)"
   ]
  },
  {
   "cell_type": "code",
   "execution_count": 10,
   "id": "cefb041c",
   "metadata": {
    "execution": {
     "iopub.execute_input": "2024-11-04T19:26:58.613746Z",
     "iopub.status.busy": "2024-11-04T19:26:58.613332Z",
     "iopub.status.idle": "2024-11-04T19:26:58.639025Z",
     "shell.execute_reply": "2024-11-04T19:26:58.637934Z"
    },
    "papermill": {
     "duration": 0.03697,
     "end_time": "2024-11-04T19:26:58.641717",
     "exception": false,
     "start_time": "2024-11-04T19:26:58.604747",
     "status": "completed"
    },
    "tags": []
   },
   "outputs": [],
   "source": [
    "for key in title_age:\n",
    "    \n",
    "    # Filter for entries with a specific title and null-value in the 'Age' column\n",
    "    filter_train_data = (train_data['Name'].str.contains(key, na=False)) & (train_data['Age'].isnull())\n",
    "    filter_test_data = (test_data['Name'].str.contains(key, na=False)) & (test_data['Age'].isnull())\n",
    "\n",
    "    # Select training data entries matching the filter and replace null values in the 'Age' column\n",
    "    train_data.loc[filter_train_data, 'Age'] = title_age[key]\n",
    "    \n",
    "    # Select test data entries matching the filter and replace null values in the 'Age' column\n",
    "    test_data.loc[filter_test_data, 'Age'] = title_age[key]"
   ]
  },
  {
   "cell_type": "markdown",
   "id": "ea715a66",
   "metadata": {
    "papermill": {
     "duration": 0.007035,
     "end_time": "2024-11-04T19:26:58.656273",
     "exception": false,
     "start_time": "2024-11-04T19:26:58.649238",
     "status": "completed"
    },
    "tags": []
   },
   "source": [
    "Before proceeding, let's check the missing values again. If the above code worked, there must be 891 non-null age values in training data and 418 non-null age values in test data."
   ]
  },
  {
   "cell_type": "code",
   "execution_count": 11,
   "id": "1ac89b04",
   "metadata": {
    "execution": {
     "iopub.execute_input": "2024-11-04T19:26:58.672440Z",
     "iopub.status.busy": "2024-11-04T19:26:58.672030Z",
     "iopub.status.idle": "2024-11-04T19:26:58.691115Z",
     "shell.execute_reply": "2024-11-04T19:26:58.689834Z"
    },
    "papermill": {
     "duration": 0.030502,
     "end_time": "2024-11-04T19:26:58.693947",
     "exception": false,
     "start_time": "2024-11-04T19:26:58.663445",
     "status": "completed"
    },
    "tags": []
   },
   "outputs": [
    {
     "name": "stdout",
     "output_type": "stream",
     "text": [
      "<class 'pandas.core.frame.DataFrame'>\n",
      "RangeIndex: 891 entries, 0 to 890\n",
      "Data columns (total 12 columns):\n",
      " #   Column       Non-Null Count  Dtype  \n",
      "---  ------       --------------  -----  \n",
      " 0   PassengerId  891 non-null    int64  \n",
      " 1   Survived     891 non-null    int64  \n",
      " 2   Pclass       891 non-null    int64  \n",
      " 3   Name         891 non-null    object \n",
      " 4   Sex          891 non-null    object \n",
      " 5   Age          891 non-null    float64\n",
      " 6   SibSp        891 non-null    int64  \n",
      " 7   Parch        891 non-null    int64  \n",
      " 8   Ticket       891 non-null    object \n",
      " 9   Fare         891 non-null    float64\n",
      " 10  Cabin        204 non-null    object \n",
      " 11  Embarked     889 non-null    object \n",
      "dtypes: float64(2), int64(5), object(5)\n",
      "memory usage: 83.7+ KB\n",
      "<class 'pandas.core.frame.DataFrame'>\n",
      "RangeIndex: 418 entries, 0 to 417\n",
      "Data columns (total 11 columns):\n",
      " #   Column       Non-Null Count  Dtype  \n",
      "---  ------       --------------  -----  \n",
      " 0   PassengerId  418 non-null    int64  \n",
      " 1   Pclass       418 non-null    int64  \n",
      " 2   Name         418 non-null    object \n",
      " 3   Sex          418 non-null    object \n",
      " 4   Age          418 non-null    float64\n",
      " 5   SibSp        418 non-null    int64  \n",
      " 6   Parch        418 non-null    int64  \n",
      " 7   Ticket       418 non-null    object \n",
      " 8   Fare         417 non-null    float64\n",
      " 9   Cabin        91 non-null     object \n",
      " 10  Embarked     418 non-null    object \n",
      "dtypes: float64(2), int64(4), object(5)\n",
      "memory usage: 36.0+ KB\n"
     ]
    }
   ],
   "source": [
    "train_data.info()\n",
    "test_data.info()"
   ]
  },
  {
   "cell_type": "markdown",
   "id": "345765c2",
   "metadata": {
    "papermill": {
     "duration": 0.007828,
     "end_time": "2024-11-04T19:26:58.710166",
     "exception": false,
     "start_time": "2024-11-04T19:26:58.702338",
     "status": "completed"
    },
    "tags": []
   },
   "source": [
    "Next, let's fix the test data entry missing the \"Fare\" value. Since we know that the passenger Mr. Thomas Storey had a 3rd class ticket, it seems reasonable to set his \"Fare\" to the median of 3rd class tickets."
   ]
  },
  {
   "cell_type": "code",
   "execution_count": 12,
   "id": "b0708ba2",
   "metadata": {
    "execution": {
     "iopub.execute_input": "2024-11-04T19:26:58.727615Z",
     "iopub.status.busy": "2024-11-04T19:26:58.727183Z",
     "iopub.status.idle": "2024-11-04T19:26:58.737289Z",
     "shell.execute_reply": "2024-11-04T19:26:58.735889Z"
    },
    "papermill": {
     "duration": 0.021226,
     "end_time": "2024-11-04T19:26:58.739596",
     "exception": false,
     "start_time": "2024-11-04T19:26:58.718370",
     "status": "completed"
    },
    "tags": []
   },
   "outputs": [
    {
     "name": "stdout",
     "output_type": "stream",
     "text": [
      "8.05\n"
     ]
    }
   ],
   "source": [
    "third_class_median =  train_data[train_data[\"Pclass\"] == 3][\"Fare\"].median()\n",
    "print(third_class_median)\n",
    "\n",
    "# Filter for entries with a specific title and null-value in the 'Age' column\n",
    "filter_test_data = (test_data[\"PassengerId\"] == 1044)\n",
    "\n",
    "# Select test data entries matching the filter and replace null values in the 'Age' column\n",
    "test_data.loc[filter_test_data, 'Fare'] = third_class_median"
   ]
  },
  {
   "cell_type": "markdown",
   "id": "f966a65b",
   "metadata": {
    "papermill": {
     "duration": 0.00725,
     "end_time": "2024-11-04T19:26:58.754541",
     "exception": false,
     "start_time": "2024-11-04T19:26:58.747291",
     "status": "completed"
    },
    "tags": []
   },
   "source": [
    "If the above code is correct, we must have 418 non-null \"Fare\" values in test data."
   ]
  },
  {
   "cell_type": "code",
   "execution_count": 13,
   "id": "eea57d4c",
   "metadata": {
    "execution": {
     "iopub.execute_input": "2024-11-04T19:26:58.771573Z",
     "iopub.status.busy": "2024-11-04T19:26:58.771149Z",
     "iopub.status.idle": "2024-11-04T19:26:58.783954Z",
     "shell.execute_reply": "2024-11-04T19:26:58.782640Z"
    },
    "papermill": {
     "duration": 0.024425,
     "end_time": "2024-11-04T19:26:58.786418",
     "exception": false,
     "start_time": "2024-11-04T19:26:58.761993",
     "status": "completed"
    },
    "tags": []
   },
   "outputs": [
    {
     "name": "stdout",
     "output_type": "stream",
     "text": [
      "<class 'pandas.core.frame.DataFrame'>\n",
      "RangeIndex: 418 entries, 0 to 417\n",
      "Data columns (total 11 columns):\n",
      " #   Column       Non-Null Count  Dtype  \n",
      "---  ------       --------------  -----  \n",
      " 0   PassengerId  418 non-null    int64  \n",
      " 1   Pclass       418 non-null    int64  \n",
      " 2   Name         418 non-null    object \n",
      " 3   Sex          418 non-null    object \n",
      " 4   Age          418 non-null    float64\n",
      " 5   SibSp        418 non-null    int64  \n",
      " 6   Parch        418 non-null    int64  \n",
      " 7   Ticket       418 non-null    object \n",
      " 8   Fare         418 non-null    float64\n",
      " 9   Cabin        91 non-null     object \n",
      " 10  Embarked     418 non-null    object \n",
      "dtypes: float64(2), int64(4), object(5)\n",
      "memory usage: 36.0+ KB\n"
     ]
    }
   ],
   "source": [
    "test_data.info()"
   ]
  },
  {
   "cell_type": "markdown",
   "id": "f8941995",
   "metadata": {
    "papermill": {
     "duration": 0.007279,
     "end_time": "2024-11-04T19:26:58.801430",
     "exception": false,
     "start_time": "2024-11-04T19:26:58.794151",
     "status": "completed"
    },
    "tags": []
   },
   "source": [
    "# Training the Model\n",
    "\n",
    "Now that we cleaned the data, let's train the model and determine its accuracy."
   ]
  },
  {
   "cell_type": "code",
   "execution_count": 14,
   "id": "ecd4efb2",
   "metadata": {
    "execution": {
     "iopub.execute_input": "2024-11-04T19:26:58.819301Z",
     "iopub.status.busy": "2024-11-04T19:26:58.818409Z",
     "iopub.status.idle": "2024-11-04T19:27:02.191561Z",
     "shell.execute_reply": "2024-11-04T19:27:02.190403Z"
    },
    "papermill": {
     "duration": 3.385334,
     "end_time": "2024-11-04T19:27:02.194296",
     "exception": false,
     "start_time": "2024-11-04T19:26:58.808962",
     "status": "completed"
    },
    "tags": []
   },
   "outputs": [
    {
     "name": "stdout",
     "output_type": "stream",
     "text": [
      "Cross-Validation Accuracy Scores: [0.84916201 0.80337079 0.81460674 0.8258427  0.85393258]\n",
      "Mean Accuracy: 0.8293829640323898\n",
      "Standard Deviation of Accuracy: 0.01950075989363607\n"
     ]
    }
   ],
   "source": [
    "from sklearn.ensemble import RandomForestClassifier\n",
    "from sklearn.model_selection import cross_val_score, StratifiedKFold\n",
    "\n",
    "y = train_data[\"Survived\"]\n",
    "\n",
    "features = [\"Pclass\", \"Age\", \"Sex\", \"Fare\", \"SibSp\", \"Parch\"]\n",
    "X = pd.get_dummies(train_data[features])\n",
    "X_test = pd.get_dummies(test_data[features])\n",
    "\n",
    "model = RandomForestClassifier(n_estimators=100, max_depth=5, random_state=1)\n",
    "model.fit(X, y)\n",
    "\n",
    "kf = StratifiedKFold(n_splits=5, shuffle=True, random_state=42)\n",
    "\n",
    "scores = cross_val_score(model, X, y, cv=kf, scoring='accuracy')\n",
    "\n",
    "# Display the results\n",
    "print(f'Cross-Validation Accuracy Scores: {scores}')\n",
    "print(f'Mean Accuracy: {scores.mean()}')\n",
    "print(f'Standard Deviation of Accuracy: {scores.std()}')\n"
   ]
  },
  {
   "cell_type": "markdown",
   "id": "433f286b",
   "metadata": {
    "papermill": {
     "duration": 0.008604,
     "end_time": "2024-11-04T19:27:02.212250",
     "exception": false,
     "start_time": "2024-11-04T19:27:02.203646",
     "status": "completed"
    },
    "tags": []
   },
   "source": [
    "Finally, we submit the result\n"
   ]
  },
  {
   "cell_type": "code",
   "execution_count": 15,
   "id": "1c3acbed",
   "metadata": {
    "execution": {
     "iopub.execute_input": "2024-11-04T19:27:02.230780Z",
     "iopub.status.busy": "2024-11-04T19:27:02.229843Z",
     "iopub.status.idle": "2024-11-04T19:27:02.254709Z",
     "shell.execute_reply": "2024-11-04T19:27:02.253107Z"
    },
    "papermill": {
     "duration": 0.03701,
     "end_time": "2024-11-04T19:27:02.257197",
     "exception": false,
     "start_time": "2024-11-04T19:27:02.220187",
     "status": "completed"
    },
    "tags": []
   },
   "outputs": [
    {
     "name": "stdout",
     "output_type": "stream",
     "text": [
      "Your submission was successfully saved!\n"
     ]
    }
   ],
   "source": [
    "predictions = model.predict(X_test)\n",
    "output = pd.DataFrame({'PassengerId': test_data.PassengerId, 'Survived': predictions})\n",
    "output.to_csv('submission.csv', index=False)\n",
    "print(\"Your submission was successfully saved!\")"
   ]
  }
 ],
 "metadata": {
  "kaggle": {
   "accelerator": "none",
   "dataSources": [
    {
     "databundleVersionId": 26502,
     "sourceId": 3136,
     "sourceType": "competition"
    }
   ],
   "dockerImageVersionId": 30775,
   "isGpuEnabled": false,
   "isInternetEnabled": false,
   "language": "python",
   "sourceType": "notebook"
  },
  "kernelspec": {
   "display_name": "Python 3",
   "language": "python",
   "name": "python3"
  },
  "language_info": {
   "codemirror_mode": {
    "name": "ipython",
    "version": 3
   },
   "file_extension": ".py",
   "mimetype": "text/x-python",
   "name": "python",
   "nbconvert_exporter": "python",
   "pygments_lexer": "ipython3",
   "version": "3.10.14"
  },
  "papermill": {
   "default_parameters": {},
   "duration": 8.97199,
   "end_time": "2024-11-04T19:27:02.989775",
   "environment_variables": {},
   "exception": null,
   "input_path": "__notebook__.ipynb",
   "output_path": "__notebook__.ipynb",
   "parameters": {},
   "start_time": "2024-11-04T19:26:54.017785",
   "version": "2.6.0"
  }
 },
 "nbformat": 4,
 "nbformat_minor": 5
}

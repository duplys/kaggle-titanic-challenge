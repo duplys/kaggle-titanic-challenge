{
 "cells": [
  {
   "cell_type": "markdown",
   "id": "a2b508ee",
   "metadata": {
    "papermill": {
     "duration": 0.007112,
     "end_time": "2024-11-04T19:32:16.059877",
     "exception": false,
     "start_time": "2024-11-04T19:32:16.052765",
     "status": "completed"
    },
    "tags": []
   },
   "source": [
    "# Titanic Notebook\n",
    "\n",
    "This notebook is based on the excellent [Titanic Tutorial](https://www.kaggle.com/code/alexisbcook/titanic-tutorial) by [Alexis Cook](https://www.kaggle.com/alexisbcook). After running Alexis's code and making the initial submission, I started to explore ways for improving the prediction accuracy."
   ]
  },
  {
   "cell_type": "markdown",
   "id": "552c969e",
   "metadata": {
    "papermill": {
     "duration": 0.005752,
     "end_time": "2024-11-04T19:32:16.072077",
     "exception": false,
     "start_time": "2024-11-04T19:32:16.066325",
     "status": "completed"
    },
    "tags": []
   },
   "source": [
    "## Ideas for improving prediction accuracy\n",
    "\n",
    "**Augmenting missing data.** Titanic's training data is composed of 891 entries and test data is composed of 418 entries. A number of the 891 entries in Titanic's training data are missing some information, most notably:\n",
    "* the `Age` column, for which only 714 entries are non-null entries, and\n",
    "* the `Cabin` column, for which only 204 entries are non-null entries.\n",
    "\n",
    "Presumably &mdash; something we should confirm during the exploratory data analysis &mdash; the **age** of a passenger impacts their chances of survival.\n",
    "\n",
    "The **cabin** of a passenger could also have an effect on their survival chances. According to [Wikipedia article on the sinking of the Titanic](https://en.wikipedia.org/wiki/Sinking_of_the_Titanic), the ship sank at 02:20 (ship's time) on 15 April 1912 after stricking an iceberg at 23:40 on 14 April. If the ship struck the iceberg 20 minutes before midnight, chances are that most passengers were in their cabins. Later on, when the ship sank, it might have been challenging to escape from cabins located in the ship's hull.\n",
    "\n",
    "Section [Survivors and victims](https://en.wikipedia.org/wiki/Titanic#Survivors_and_victims) in the Wikipedia's article states that the survival rates show stark differences for different classes aboard Titanic:\n",
    "\n",
    "> Although only 3% of first-class women were lost, 54% of those in third-class died. Similarly, five of six first-class and all second-class children survived, but 52 of the 79 in third-class perished. The differences by gender were even bigger: nearly all female crew members, first- and second-class passengers were saved. Men from the First Class died at a higher rate than women from the Third Class. In total, 50% of the children survived, 20% of the men and 75% of the women.\n",
    "\n",
    "So, let's augment the missing data.\n",
    "\n",
    "**Tuning hyperparameters.** tbd"
   ]
  },
  {
   "cell_type": "markdown",
   "id": "8cf65c7a",
   "metadata": {
    "papermill": {
     "duration": 0.005999,
     "end_time": "2024-11-04T19:32:16.084022",
     "exception": false,
     "start_time": "2024-11-04T19:32:16.078023",
     "status": "completed"
    },
    "tags": []
   },
   "source": [
    "# Load Data\n",
    "First things first, let's load the data."
   ]
  },
  {
   "cell_type": "code",
   "execution_count": 1,
   "id": "806a1fa0",
   "metadata": {
    "_cell_guid": "b1076dfc-b9ad-4769-8c92-a6c4dae69d19",
    "_uuid": "8f2839f25d086af736a60e9eeb907d3b93b6e0e5",
    "execution": {
     "iopub.execute_input": "2024-11-04T19:32:16.097613Z",
     "iopub.status.busy": "2024-11-04T19:32:16.097217Z",
     "iopub.status.idle": "2024-11-04T19:32:16.901382Z",
     "shell.execute_reply": "2024-11-04T19:32:16.900343Z"
    },
    "papermill": {
     "duration": 0.813657,
     "end_time": "2024-11-04T19:32:16.903840",
     "exception": false,
     "start_time": "2024-11-04T19:32:16.090183",
     "status": "completed"
    },
    "tags": []
   },
   "outputs": [
    {
     "name": "stdout",
     "output_type": "stream",
     "text": [
      "/kaggle/input/titanic/train.csv\n",
      "/kaggle/input/titanic/test.csv\n",
      "/kaggle/input/titanic/gender_submission.csv\n"
     ]
    }
   ],
   "source": [
    "# This Python 3 environment comes with many helpful analytic s libraries installed\n",
    "# It is defined by the kaggle/python Docker image: https://github.com/kaggle/docker-python\n",
    "# For example, here's several helpful packages to load\n",
    "\n",
    "import numpy as np # linear algebra\n",
    "import pandas as pd # data processing, CSV file I/O (e.g. pd.read_csv)\n",
    "\n",
    "# Input data files are available in the read-only \"../input/\" directory\n",
    "# For example, running this (by clicking run or pressing Shift+Enter) will list all files under the input directory\n",
    "\n",
    "import os\n",
    "for dirname, _, filenames in os.walk('/kaggle/input'):\n",
    "    for filename in filenames:\n",
    "        print(os.path.join(dirname, filename))\n",
    "\n",
    "# You can write up to 20GB to the current directory (/kaggle/working/) that gets preserved as output when you create a version using \"Save & Run All\" \n",
    "# You can also write temporary files to /kaggle/temp/, but they won't be saved outside of the current session\n"
   ]
  },
  {
   "cell_type": "markdown",
   "id": "112c0d52",
   "metadata": {
    "papermill": {
     "duration": 0.005688,
     "end_time": "2024-11-04T19:32:16.915698",
     "exception": false,
     "start_time": "2024-11-04T19:32:16.910010",
     "status": "completed"
    },
    "tags": []
   },
   "source": [
    "# Exploratory Data Analysis\n",
    "\n",
    "Let's take a look at the training data and the test data."
   ]
  },
  {
   "cell_type": "code",
   "execution_count": 2,
   "id": "850874fd",
   "metadata": {
    "execution": {
     "iopub.execute_input": "2024-11-04T19:32:16.930673Z",
     "iopub.status.busy": "2024-11-04T19:32:16.929681Z",
     "iopub.status.idle": "2024-11-04T19:32:16.972913Z",
     "shell.execute_reply": "2024-11-04T19:32:16.971946Z"
    },
    "papermill": {
     "duration": 0.053554,
     "end_time": "2024-11-04T19:32:16.975224",
     "exception": false,
     "start_time": "2024-11-04T19:32:16.921670",
     "status": "completed"
    },
    "tags": []
   },
   "outputs": [
    {
     "data": {
      "text/html": [
       "<div>\n",
       "<style scoped>\n",
       "    .dataframe tbody tr th:only-of-type {\n",
       "        vertical-align: middle;\n",
       "    }\n",
       "\n",
       "    .dataframe tbody tr th {\n",
       "        vertical-align: top;\n",
       "    }\n",
       "\n",
       "    .dataframe thead th {\n",
       "        text-align: right;\n",
       "    }\n",
       "</style>\n",
       "<table border=\"1\" class=\"dataframe\">\n",
       "  <thead>\n",
       "    <tr style=\"text-align: right;\">\n",
       "      <th></th>\n",
       "      <th>PassengerId</th>\n",
       "      <th>Survived</th>\n",
       "      <th>Pclass</th>\n",
       "      <th>Name</th>\n",
       "      <th>Sex</th>\n",
       "      <th>Age</th>\n",
       "      <th>SibSp</th>\n",
       "      <th>Parch</th>\n",
       "      <th>Ticket</th>\n",
       "      <th>Fare</th>\n",
       "      <th>Cabin</th>\n",
       "      <th>Embarked</th>\n",
       "    </tr>\n",
       "  </thead>\n",
       "  <tbody>\n",
       "    <tr>\n",
       "      <th>0</th>\n",
       "      <td>1</td>\n",
       "      <td>0</td>\n",
       "      <td>3</td>\n",
       "      <td>Braund, Mr. Owen Harris</td>\n",
       "      <td>male</td>\n",
       "      <td>22.0</td>\n",
       "      <td>1</td>\n",
       "      <td>0</td>\n",
       "      <td>A/5 21171</td>\n",
       "      <td>7.2500</td>\n",
       "      <td>NaN</td>\n",
       "      <td>S</td>\n",
       "    </tr>\n",
       "    <tr>\n",
       "      <th>1</th>\n",
       "      <td>2</td>\n",
       "      <td>1</td>\n",
       "      <td>1</td>\n",
       "      <td>Cumings, Mrs. John Bradley (Florence Briggs Th...</td>\n",
       "      <td>female</td>\n",
       "      <td>38.0</td>\n",
       "      <td>1</td>\n",
       "      <td>0</td>\n",
       "      <td>PC 17599</td>\n",
       "      <td>71.2833</td>\n",
       "      <td>C85</td>\n",
       "      <td>C</td>\n",
       "    </tr>\n",
       "    <tr>\n",
       "      <th>2</th>\n",
       "      <td>3</td>\n",
       "      <td>1</td>\n",
       "      <td>3</td>\n",
       "      <td>Heikkinen, Miss. Laina</td>\n",
       "      <td>female</td>\n",
       "      <td>26.0</td>\n",
       "      <td>0</td>\n",
       "      <td>0</td>\n",
       "      <td>STON/O2. 3101282</td>\n",
       "      <td>7.9250</td>\n",
       "      <td>NaN</td>\n",
       "      <td>S</td>\n",
       "    </tr>\n",
       "    <tr>\n",
       "      <th>3</th>\n",
       "      <td>4</td>\n",
       "      <td>1</td>\n",
       "      <td>1</td>\n",
       "      <td>Futrelle, Mrs. Jacques Heath (Lily May Peel)</td>\n",
       "      <td>female</td>\n",
       "      <td>35.0</td>\n",
       "      <td>1</td>\n",
       "      <td>0</td>\n",
       "      <td>113803</td>\n",
       "      <td>53.1000</td>\n",
       "      <td>C123</td>\n",
       "      <td>S</td>\n",
       "    </tr>\n",
       "    <tr>\n",
       "      <th>4</th>\n",
       "      <td>5</td>\n",
       "      <td>0</td>\n",
       "      <td>3</td>\n",
       "      <td>Allen, Mr. William Henry</td>\n",
       "      <td>male</td>\n",
       "      <td>35.0</td>\n",
       "      <td>0</td>\n",
       "      <td>0</td>\n",
       "      <td>373450</td>\n",
       "      <td>8.0500</td>\n",
       "      <td>NaN</td>\n",
       "      <td>S</td>\n",
       "    </tr>\n",
       "  </tbody>\n",
       "</table>\n",
       "</div>"
      ],
      "text/plain": [
       "   PassengerId  Survived  Pclass  \\\n",
       "0            1         0       3   \n",
       "1            2         1       1   \n",
       "2            3         1       3   \n",
       "3            4         1       1   \n",
       "4            5         0       3   \n",
       "\n",
       "                                                Name     Sex   Age  SibSp  \\\n",
       "0                            Braund, Mr. Owen Harris    male  22.0      1   \n",
       "1  Cumings, Mrs. John Bradley (Florence Briggs Th...  female  38.0      1   \n",
       "2                             Heikkinen, Miss. Laina  female  26.0      0   \n",
       "3       Futrelle, Mrs. Jacques Heath (Lily May Peel)  female  35.0      1   \n",
       "4                           Allen, Mr. William Henry    male  35.0      0   \n",
       "\n",
       "   Parch            Ticket     Fare Cabin Embarked  \n",
       "0      0         A/5 21171   7.2500   NaN        S  \n",
       "1      0          PC 17599  71.2833   C85        C  \n",
       "2      0  STON/O2. 3101282   7.9250   NaN        S  \n",
       "3      0            113803  53.1000  C123        S  \n",
       "4      0            373450   8.0500   NaN        S  "
      ]
     },
     "execution_count": 2,
     "metadata": {},
     "output_type": "execute_result"
    }
   ],
   "source": [
    "train_data = pd.read_csv(\"/kaggle/input/titanic/train.csv\")\n",
    "train_data.head()"
   ]
  },
  {
   "cell_type": "code",
   "execution_count": 3,
   "id": "25e9ad4d",
   "metadata": {
    "execution": {
     "iopub.execute_input": "2024-11-04T19:32:16.989702Z",
     "iopub.status.busy": "2024-11-04T19:32:16.989301Z",
     "iopub.status.idle": "2024-11-04T19:32:17.009445Z",
     "shell.execute_reply": "2024-11-04T19:32:17.008418Z"
    },
    "papermill": {
     "duration": 0.030175,
     "end_time": "2024-11-04T19:32:17.011928",
     "exception": false,
     "start_time": "2024-11-04T19:32:16.981753",
     "status": "completed"
    },
    "tags": []
   },
   "outputs": [
    {
     "data": {
      "text/html": [
       "<div>\n",
       "<style scoped>\n",
       "    .dataframe tbody tr th:only-of-type {\n",
       "        vertical-align: middle;\n",
       "    }\n",
       "\n",
       "    .dataframe tbody tr th {\n",
       "        vertical-align: top;\n",
       "    }\n",
       "\n",
       "    .dataframe thead th {\n",
       "        text-align: right;\n",
       "    }\n",
       "</style>\n",
       "<table border=\"1\" class=\"dataframe\">\n",
       "  <thead>\n",
       "    <tr style=\"text-align: right;\">\n",
       "      <th></th>\n",
       "      <th>PassengerId</th>\n",
       "      <th>Pclass</th>\n",
       "      <th>Name</th>\n",
       "      <th>Sex</th>\n",
       "      <th>Age</th>\n",
       "      <th>SibSp</th>\n",
       "      <th>Parch</th>\n",
       "      <th>Ticket</th>\n",
       "      <th>Fare</th>\n",
       "      <th>Cabin</th>\n",
       "      <th>Embarked</th>\n",
       "    </tr>\n",
       "  </thead>\n",
       "  <tbody>\n",
       "    <tr>\n",
       "      <th>0</th>\n",
       "      <td>892</td>\n",
       "      <td>3</td>\n",
       "      <td>Kelly, Mr. James</td>\n",
       "      <td>male</td>\n",
       "      <td>34.5</td>\n",
       "      <td>0</td>\n",
       "      <td>0</td>\n",
       "      <td>330911</td>\n",
       "      <td>7.8292</td>\n",
       "      <td>NaN</td>\n",
       "      <td>Q</td>\n",
       "    </tr>\n",
       "    <tr>\n",
       "      <th>1</th>\n",
       "      <td>893</td>\n",
       "      <td>3</td>\n",
       "      <td>Wilkes, Mrs. James (Ellen Needs)</td>\n",
       "      <td>female</td>\n",
       "      <td>47.0</td>\n",
       "      <td>1</td>\n",
       "      <td>0</td>\n",
       "      <td>363272</td>\n",
       "      <td>7.0000</td>\n",
       "      <td>NaN</td>\n",
       "      <td>S</td>\n",
       "    </tr>\n",
       "    <tr>\n",
       "      <th>2</th>\n",
       "      <td>894</td>\n",
       "      <td>2</td>\n",
       "      <td>Myles, Mr. Thomas Francis</td>\n",
       "      <td>male</td>\n",
       "      <td>62.0</td>\n",
       "      <td>0</td>\n",
       "      <td>0</td>\n",
       "      <td>240276</td>\n",
       "      <td>9.6875</td>\n",
       "      <td>NaN</td>\n",
       "      <td>Q</td>\n",
       "    </tr>\n",
       "    <tr>\n",
       "      <th>3</th>\n",
       "      <td>895</td>\n",
       "      <td>3</td>\n",
       "      <td>Wirz, Mr. Albert</td>\n",
       "      <td>male</td>\n",
       "      <td>27.0</td>\n",
       "      <td>0</td>\n",
       "      <td>0</td>\n",
       "      <td>315154</td>\n",
       "      <td>8.6625</td>\n",
       "      <td>NaN</td>\n",
       "      <td>S</td>\n",
       "    </tr>\n",
       "    <tr>\n",
       "      <th>4</th>\n",
       "      <td>896</td>\n",
       "      <td>3</td>\n",
       "      <td>Hirvonen, Mrs. Alexander (Helga E Lindqvist)</td>\n",
       "      <td>female</td>\n",
       "      <td>22.0</td>\n",
       "      <td>1</td>\n",
       "      <td>1</td>\n",
       "      <td>3101298</td>\n",
       "      <td>12.2875</td>\n",
       "      <td>NaN</td>\n",
       "      <td>S</td>\n",
       "    </tr>\n",
       "  </tbody>\n",
       "</table>\n",
       "</div>"
      ],
      "text/plain": [
       "   PassengerId  Pclass                                          Name     Sex  \\\n",
       "0          892       3                              Kelly, Mr. James    male   \n",
       "1          893       3              Wilkes, Mrs. James (Ellen Needs)  female   \n",
       "2          894       2                     Myles, Mr. Thomas Francis    male   \n",
       "3          895       3                              Wirz, Mr. Albert    male   \n",
       "4          896       3  Hirvonen, Mrs. Alexander (Helga E Lindqvist)  female   \n",
       "\n",
       "    Age  SibSp  Parch   Ticket     Fare Cabin Embarked  \n",
       "0  34.5      0      0   330911   7.8292   NaN        Q  \n",
       "1  47.0      1      0   363272   7.0000   NaN        S  \n",
       "2  62.0      0      0   240276   9.6875   NaN        Q  \n",
       "3  27.0      0      0   315154   8.6625   NaN        S  \n",
       "4  22.0      1      1  3101298  12.2875   NaN        S  "
      ]
     },
     "execution_count": 3,
     "metadata": {},
     "output_type": "execute_result"
    }
   ],
   "source": [
    "test_data = pd.read_csv(\"/kaggle/input/titanic/test.csv\")\n",
    "test_data.head()"
   ]
  },
  {
   "cell_type": "markdown",
   "id": "12e8fa22",
   "metadata": {
    "papermill": {
     "duration": 0.006927,
     "end_time": "2024-11-04T19:32:17.025583",
     "exception": false,
     "start_time": "2024-11-04T19:32:17.018656",
     "status": "completed"
    },
    "tags": []
   },
   "source": [
    "The first observation from Alexis tutorial is that the survival rate of women are much higher than that of men:"
   ]
  },
  {
   "cell_type": "code",
   "execution_count": 4,
   "id": "32a453c7",
   "metadata": {
    "execution": {
     "iopub.execute_input": "2024-11-04T19:32:17.040529Z",
     "iopub.status.busy": "2024-11-04T19:32:17.040125Z",
     "iopub.status.idle": "2024-11-04T19:32:17.055510Z",
     "shell.execute_reply": "2024-11-04T19:32:17.054255Z"
    },
    "papermill": {
     "duration": 0.025327,
     "end_time": "2024-11-04T19:32:17.057585",
     "exception": false,
     "start_time": "2024-11-04T19:32:17.032258",
     "status": "completed"
    },
    "tags": []
   },
   "outputs": [
    {
     "name": "stdout",
     "output_type": "stream",
     "text": [
      "% of women who survived: 0.7420382165605095\n",
      "% of men who survived: 0.18890814558058924\n"
     ]
    }
   ],
   "source": [
    "women = train_data.loc[train_data.Sex == 'female'][\"Survived\"]\n",
    "rate_women = sum(women)/len(women)\n",
    "men = train_data.loc[train_data.Sex == 'male'][\"Survived\"]\n",
    "rate_men = sum(men)/len(men)\n",
    "\n",
    "print(\"% of women who survived:\", rate_women)\n",
    "print(\"% of men who survived:\", rate_men)"
   ]
  },
  {
   "cell_type": "markdown",
   "id": "38e30b65",
   "metadata": {
    "papermill": {
     "duration": 0.006411,
     "end_time": "2024-11-04T19:32:17.070590",
     "exception": false,
     "start_time": "2024-11-04T19:32:17.064179",
     "status": "completed"
    },
    "tags": []
   },
   "source": [
    "Next, let's check whether we have entries with missing values (`NaN`) in our training data."
   ]
  },
  {
   "cell_type": "code",
   "execution_count": 5,
   "id": "6ef79e4a",
   "metadata": {
    "execution": {
     "iopub.execute_input": "2024-11-04T19:32:17.085243Z",
     "iopub.status.busy": "2024-11-04T19:32:17.084852Z",
     "iopub.status.idle": "2024-11-04T19:32:17.106305Z",
     "shell.execute_reply": "2024-11-04T19:32:17.105228Z"
    },
    "papermill": {
     "duration": 0.031548,
     "end_time": "2024-11-04T19:32:17.108600",
     "exception": false,
     "start_time": "2024-11-04T19:32:17.077052",
     "status": "completed"
    },
    "tags": []
   },
   "outputs": [
    {
     "name": "stdout",
     "output_type": "stream",
     "text": [
      "<class 'pandas.core.frame.DataFrame'>\n",
      "RangeIndex: 891 entries, 0 to 890\n",
      "Data columns (total 12 columns):\n",
      " #   Column       Non-Null Count  Dtype  \n",
      "---  ------       --------------  -----  \n",
      " 0   PassengerId  891 non-null    int64  \n",
      " 1   Survived     891 non-null    int64  \n",
      " 2   Pclass       891 non-null    int64  \n",
      " 3   Name         891 non-null    object \n",
      " 4   Sex          891 non-null    object \n",
      " 5   Age          714 non-null    float64\n",
      " 6   SibSp        891 non-null    int64  \n",
      " 7   Parch        891 non-null    int64  \n",
      " 8   Ticket       891 non-null    object \n",
      " 9   Fare         891 non-null    float64\n",
      " 10  Cabin        204 non-null    object \n",
      " 11  Embarked     889 non-null    object \n",
      "dtypes: float64(2), int64(5), object(5)\n",
      "memory usage: 83.7+ KB\n"
     ]
    }
   ],
   "source": [
    "# How many NaNs do we have in our training data?\n",
    "train_data.info()"
   ]
  },
  {
   "cell_type": "code",
   "execution_count": 6,
   "id": "36ef1952",
   "metadata": {
    "execution": {
     "iopub.execute_input": "2024-11-04T19:32:17.123751Z",
     "iopub.status.busy": "2024-11-04T19:32:17.123333Z",
     "iopub.status.idle": "2024-11-04T19:32:17.134543Z",
     "shell.execute_reply": "2024-11-04T19:32:17.133557Z"
    },
    "papermill": {
     "duration": 0.021497,
     "end_time": "2024-11-04T19:32:17.136843",
     "exception": false,
     "start_time": "2024-11-04T19:32:17.115346",
     "status": "completed"
    },
    "tags": []
   },
   "outputs": [
    {
     "name": "stdout",
     "output_type": "stream",
     "text": [
      "<class 'pandas.core.frame.DataFrame'>\n",
      "RangeIndex: 418 entries, 0 to 417\n",
      "Data columns (total 11 columns):\n",
      " #   Column       Non-Null Count  Dtype  \n",
      "---  ------       --------------  -----  \n",
      " 0   PassengerId  418 non-null    int64  \n",
      " 1   Pclass       418 non-null    int64  \n",
      " 2   Name         418 non-null    object \n",
      " 3   Sex          418 non-null    object \n",
      " 4   Age          332 non-null    float64\n",
      " 5   SibSp        418 non-null    int64  \n",
      " 6   Parch        418 non-null    int64  \n",
      " 7   Ticket       418 non-null    object \n",
      " 8   Fare         417 non-null    float64\n",
      " 9   Cabin        91 non-null     object \n",
      " 10  Embarked     418 non-null    object \n",
      "dtypes: float64(2), int64(4), object(5)\n",
      "memory usage: 36.0+ KB\n"
     ]
    }
   ],
   "source": [
    "# How many NaNs do we have in our test data?\n",
    "test_data.info()"
   ]
  },
  {
   "cell_type": "markdown",
   "id": "f772b19c",
   "metadata": {
    "papermill": {
     "duration": 0.006573,
     "end_time": "2024-11-04T19:32:17.150186",
     "exception": false,
     "start_time": "2024-11-04T19:32:17.143613",
     "status": "completed"
    },
    "tags": []
   },
   "source": [
    "So, let's see what the entries with missing age look like."
   ]
  },
  {
   "cell_type": "code",
   "execution_count": 7,
   "id": "c815acd6",
   "metadata": {
    "execution": {
     "iopub.execute_input": "2024-11-04T19:32:17.165172Z",
     "iopub.status.busy": "2024-11-04T19:32:17.164801Z",
     "iopub.status.idle": "2024-11-04T19:32:17.168977Z",
     "shell.execute_reply": "2024-11-04T19:32:17.168013Z"
    },
    "papermill": {
     "duration": 0.014085,
     "end_time": "2024-11-04T19:32:17.170897",
     "exception": false,
     "start_time": "2024-11-04T19:32:17.156812",
     "status": "completed"
    },
    "tags": []
   },
   "outputs": [],
   "source": [
    "# Select all passengers where Age is null\n",
    "#train_data_no_age = train_data[train_data[\"Age\"].isnull()]\n",
    "\n",
    "#for index, row in train_data_no_age.iterrows():\n",
    "#    print(f\"Index: {index}, Values: {row.values}\") # or a custom format"
   ]
  },
  {
   "cell_type": "markdown",
   "id": "c4016147",
   "metadata": {
    "papermill": {
     "duration": 0.006471,
     "end_time": "2024-11-04T19:32:17.184069",
     "exception": false,
     "start_time": "2024-11-04T19:32:17.177598",
     "status": "completed"
    },
    "tags": []
   },
   "source": [
    "In addition, we see that the test data has one entry with missing value for \"Fare\". Using \"Fare\" as one of the features in our model seems like a reasonable idea because the ticket price indicates the ticket class. Since the cheaper tickets were on decks further down in the ship's hull, we can expect the survival rate to be linked to the ticket price. So, let's take a look at that entry."
   ]
  },
  {
   "cell_type": "code",
   "execution_count": 8,
   "id": "61e1ec7b",
   "metadata": {
    "execution": {
     "iopub.execute_input": "2024-11-04T19:32:17.199329Z",
     "iopub.status.busy": "2024-11-04T19:32:17.198446Z",
     "iopub.status.idle": "2024-11-04T19:32:17.212138Z",
     "shell.execute_reply": "2024-11-04T19:32:17.211201Z"
    },
    "papermill": {
     "duration": 0.023535,
     "end_time": "2024-11-04T19:32:17.214203",
     "exception": false,
     "start_time": "2024-11-04T19:32:17.190668",
     "status": "completed"
    },
    "tags": []
   },
   "outputs": [
    {
     "data": {
      "text/html": [
       "<div>\n",
       "<style scoped>\n",
       "    .dataframe tbody tr th:only-of-type {\n",
       "        vertical-align: middle;\n",
       "    }\n",
       "\n",
       "    .dataframe tbody tr th {\n",
       "        vertical-align: top;\n",
       "    }\n",
       "\n",
       "    .dataframe thead th {\n",
       "        text-align: right;\n",
       "    }\n",
       "</style>\n",
       "<table border=\"1\" class=\"dataframe\">\n",
       "  <thead>\n",
       "    <tr style=\"text-align: right;\">\n",
       "      <th></th>\n",
       "      <th>PassengerId</th>\n",
       "      <th>Pclass</th>\n",
       "      <th>Name</th>\n",
       "      <th>Sex</th>\n",
       "      <th>Age</th>\n",
       "      <th>SibSp</th>\n",
       "      <th>Parch</th>\n",
       "      <th>Ticket</th>\n",
       "      <th>Fare</th>\n",
       "      <th>Cabin</th>\n",
       "      <th>Embarked</th>\n",
       "    </tr>\n",
       "  </thead>\n",
       "  <tbody>\n",
       "    <tr>\n",
       "      <th>152</th>\n",
       "      <td>1044</td>\n",
       "      <td>3</td>\n",
       "      <td>Storey, Mr. Thomas</td>\n",
       "      <td>male</td>\n",
       "      <td>60.5</td>\n",
       "      <td>0</td>\n",
       "      <td>0</td>\n",
       "      <td>3701</td>\n",
       "      <td>NaN</td>\n",
       "      <td>NaN</td>\n",
       "      <td>S</td>\n",
       "    </tr>\n",
       "  </tbody>\n",
       "</table>\n",
       "</div>"
      ],
      "text/plain": [
       "     PassengerId  Pclass                Name   Sex   Age  SibSp  Parch Ticket  \\\n",
       "152         1044       3  Storey, Mr. Thomas  male  60.5      0      0   3701   \n",
       "\n",
       "     Fare Cabin Embarked  \n",
       "152   NaN   NaN        S  "
      ]
     },
     "execution_count": 8,
     "metadata": {},
     "output_type": "execute_result"
    }
   ],
   "source": [
    "# Select passengers from the test data where \"Fare\" is null\n",
    "test_data[test_data[\"Fare\"].isnull()].head()"
   ]
  },
  {
   "cell_type": "markdown",
   "id": "fe3ab73c",
   "metadata": {
    "papermill": {
     "duration": 0.006803,
     "end_time": "2024-11-04T19:32:17.228327",
     "exception": false,
     "start_time": "2024-11-04T19:32:17.221524",
     "status": "completed"
    },
    "tags": []
   },
   "source": [
    "# Cleaning Data\n",
    "\n",
    "We've seen that some entries in training and test data have no values for \"Age\". Let's fix this. We will estimate missing age based on the passenger's title. We can do this by first calculating the median for passengers with different titles (e.g., Ms., Mrs., Mr.) and then setting the missing values to the corresponding median."
   ]
  },
  {
   "cell_type": "code",
   "execution_count": 9,
   "id": "3398e551",
   "metadata": {
    "execution": {
     "iopub.execute_input": "2024-11-04T19:32:17.244518Z",
     "iopub.status.busy": "2024-11-04T19:32:17.243727Z",
     "iopub.status.idle": "2024-11-04T19:32:17.261123Z",
     "shell.execute_reply": "2024-11-04T19:32:17.260146Z"
    },
    "papermill": {
     "duration": 0.027965,
     "end_time": "2024-11-04T19:32:17.263219",
     "exception": false,
     "start_time": "2024-11-04T19:32:17.235254",
     "status": "completed"
    },
    "tags": []
   },
   "outputs": [
    {
     "name": "stdout",
     "output_type": "stream",
     "text": [
      "{'Master': 3.5, 'Miss.': 21.0, 'Ms.': 28.0, 'Mrs.': 35.0, 'Mr.': 31.0, 'Dr.': 36.0}\n"
     ]
    }
   ],
   "source": [
    "title_age = {\"Master\": 0, \"Miss.\": 0, \"Ms.\": 0, \"Mrs.\": 0, \"Mr.\": 0, \"Dr.\": 0}\n",
    "\n",
    "for key in title_age:\n",
    "    age_data = train_data[(train_data['Name'].str.contains(key, na=False)) & (train_data['Age'].notnull())]\n",
    "    title_age[key] = age_data[\"Age\"].median()\n",
    "\n",
    "print(title_age)"
   ]
  },
  {
   "cell_type": "code",
   "execution_count": 10,
   "id": "d716f03b",
   "metadata": {
    "execution": {
     "iopub.execute_input": "2024-11-04T19:32:17.278795Z",
     "iopub.status.busy": "2024-11-04T19:32:17.278133Z",
     "iopub.status.idle": "2024-11-04T19:32:17.298667Z",
     "shell.execute_reply": "2024-11-04T19:32:17.297826Z"
    },
    "papermill": {
     "duration": 0.030764,
     "end_time": "2024-11-04T19:32:17.300806",
     "exception": false,
     "start_time": "2024-11-04T19:32:17.270042",
     "status": "completed"
    },
    "tags": []
   },
   "outputs": [],
   "source": [
    "for key in title_age:\n",
    "    \n",
    "    # Filter for entries with a specific title and null-value in the 'Age' column\n",
    "    filter_train_data = (train_data['Name'].str.contains(key, na=False)) & (train_data['Age'].isnull())\n",
    "    filter_test_data = (test_data['Name'].str.contains(key, na=False)) & (test_data['Age'].isnull())\n",
    "\n",
    "    # Select training data entries matching the filter and replace null values in the 'Age' column\n",
    "    train_data.loc[filter_train_data, 'Age'] = title_age[key]\n",
    "    \n",
    "    # Select test data entries matching the filter and replace null values in the 'Age' column\n",
    "    test_data.loc[filter_test_data, 'Age'] = title_age[key]"
   ]
  },
  {
   "cell_type": "markdown",
   "id": "33b0199e",
   "metadata": {
    "papermill": {
     "duration": 0.006614,
     "end_time": "2024-11-04T19:32:17.314440",
     "exception": false,
     "start_time": "2024-11-04T19:32:17.307826",
     "status": "completed"
    },
    "tags": []
   },
   "source": [
    "Before proceeding, let's check the missing values again. If the above code worked, there must be 891 non-null age values in training data and 418 non-null age values in test data."
   ]
  },
  {
   "cell_type": "code",
   "execution_count": 11,
   "id": "7c42cef9",
   "metadata": {
    "execution": {
     "iopub.execute_input": "2024-11-04T19:32:17.330542Z",
     "iopub.status.busy": "2024-11-04T19:32:17.329632Z",
     "iopub.status.idle": "2024-11-04T19:32:17.344593Z",
     "shell.execute_reply": "2024-11-04T19:32:17.343568Z"
    },
    "papermill": {
     "duration": 0.0258,
     "end_time": "2024-11-04T19:32:17.347084",
     "exception": false,
     "start_time": "2024-11-04T19:32:17.321284",
     "status": "completed"
    },
    "tags": []
   },
   "outputs": [
    {
     "name": "stdout",
     "output_type": "stream",
     "text": [
      "<class 'pandas.core.frame.DataFrame'>\n",
      "RangeIndex: 891 entries, 0 to 890\n",
      "Data columns (total 12 columns):\n",
      " #   Column       Non-Null Count  Dtype  \n",
      "---  ------       --------------  -----  \n",
      " 0   PassengerId  891 non-null    int64  \n",
      " 1   Survived     891 non-null    int64  \n",
      " 2   Pclass       891 non-null    int64  \n",
      " 3   Name         891 non-null    object \n",
      " 4   Sex          891 non-null    object \n",
      " 5   Age          891 non-null    float64\n",
      " 6   SibSp        891 non-null    int64  \n",
      " 7   Parch        891 non-null    int64  \n",
      " 8   Ticket       891 non-null    object \n",
      " 9   Fare         891 non-null    float64\n",
      " 10  Cabin        204 non-null    object \n",
      " 11  Embarked     889 non-null    object \n",
      "dtypes: float64(2), int64(5), object(5)\n",
      "memory usage: 83.7+ KB\n",
      "<class 'pandas.core.frame.DataFrame'>\n",
      "RangeIndex: 418 entries, 0 to 417\n",
      "Data columns (total 11 columns):\n",
      " #   Column       Non-Null Count  Dtype  \n",
      "---  ------       --------------  -----  \n",
      " 0   PassengerId  418 non-null    int64  \n",
      " 1   Pclass       418 non-null    int64  \n",
      " 2   Name         418 non-null    object \n",
      " 3   Sex          418 non-null    object \n",
      " 4   Age          418 non-null    float64\n",
      " 5   SibSp        418 non-null    int64  \n",
      " 6   Parch        418 non-null    int64  \n",
      " 7   Ticket       418 non-null    object \n",
      " 8   Fare         417 non-null    float64\n",
      " 9   Cabin        91 non-null     object \n",
      " 10  Embarked     418 non-null    object \n",
      "dtypes: float64(2), int64(4), object(5)\n",
      "memory usage: 36.0+ KB\n"
     ]
    }
   ],
   "source": [
    "train_data.info()\n",
    "test_data.info()"
   ]
  },
  {
   "cell_type": "markdown",
   "id": "f3367b7d",
   "metadata": {
    "papermill": {
     "duration": 0.006729,
     "end_time": "2024-11-04T19:32:17.360885",
     "exception": false,
     "start_time": "2024-11-04T19:32:17.354156",
     "status": "completed"
    },
    "tags": []
   },
   "source": [
    "Next, let's fix the test data entry missing the \"Fare\" value. Since we know that the passenger Mr. Thomas Storey had a 3rd class ticket, it seems reasonable to set his \"Fare\" to the median of 3rd class tickets."
   ]
  },
  {
   "cell_type": "code",
   "execution_count": 12,
   "id": "0cb0bf42",
   "metadata": {
    "execution": {
     "iopub.execute_input": "2024-11-04T19:32:17.378191Z",
     "iopub.status.busy": "2024-11-04T19:32:17.377806Z",
     "iopub.status.idle": "2024-11-04T19:32:17.385933Z",
     "shell.execute_reply": "2024-11-04T19:32:17.384953Z"
    },
    "papermill": {
     "duration": 0.020538,
     "end_time": "2024-11-04T19:32:17.388399",
     "exception": false,
     "start_time": "2024-11-04T19:32:17.367861",
     "status": "completed"
    },
    "tags": []
   },
   "outputs": [
    {
     "name": "stdout",
     "output_type": "stream",
     "text": [
      "8.05\n"
     ]
    }
   ],
   "source": [
    "third_class_median =  train_data[train_data[\"Pclass\"] == 3][\"Fare\"].median()\n",
    "print(third_class_median)\n",
    "\n",
    "# Filter for entries with a specific title and null-value in the 'Age' column\n",
    "filter_test_data = (test_data[\"PassengerId\"] == 1044)\n",
    "\n",
    "# Select test data entries matching the filter and replace null values in the 'Age' column\n",
    "test_data.loc[filter_test_data, 'Fare'] = third_class_median"
   ]
  },
  {
   "cell_type": "markdown",
   "id": "7e927a1d",
   "metadata": {
    "papermill": {
     "duration": 0.006713,
     "end_time": "2024-11-04T19:32:17.402065",
     "exception": false,
     "start_time": "2024-11-04T19:32:17.395352",
     "status": "completed"
    },
    "tags": []
   },
   "source": [
    "If the above code is correct, we must have 418 non-null \"Fare\" values in test data."
   ]
  },
  {
   "cell_type": "code",
   "execution_count": 13,
   "id": "9c7a4ade",
   "metadata": {
    "execution": {
     "iopub.execute_input": "2024-11-04T19:32:17.418433Z",
     "iopub.status.busy": "2024-11-04T19:32:17.417414Z",
     "iopub.status.idle": "2024-11-04T19:32:17.428332Z",
     "shell.execute_reply": "2024-11-04T19:32:17.427395Z"
    },
    "papermill": {
     "duration": 0.021363,
     "end_time": "2024-11-04T19:32:17.430395",
     "exception": false,
     "start_time": "2024-11-04T19:32:17.409032",
     "status": "completed"
    },
    "tags": []
   },
   "outputs": [
    {
     "name": "stdout",
     "output_type": "stream",
     "text": [
      "<class 'pandas.core.frame.DataFrame'>\n",
      "RangeIndex: 418 entries, 0 to 417\n",
      "Data columns (total 11 columns):\n",
      " #   Column       Non-Null Count  Dtype  \n",
      "---  ------       --------------  -----  \n",
      " 0   PassengerId  418 non-null    int64  \n",
      " 1   Pclass       418 non-null    int64  \n",
      " 2   Name         418 non-null    object \n",
      " 3   Sex          418 non-null    object \n",
      " 4   Age          418 non-null    float64\n",
      " 5   SibSp        418 non-null    int64  \n",
      " 6   Parch        418 non-null    int64  \n",
      " 7   Ticket       418 non-null    object \n",
      " 8   Fare         418 non-null    float64\n",
      " 9   Cabin        91 non-null     object \n",
      " 10  Embarked     418 non-null    object \n",
      "dtypes: float64(2), int64(4), object(5)\n",
      "memory usage: 36.0+ KB\n"
     ]
    }
   ],
   "source": [
    "test_data.info()"
   ]
  },
  {
   "cell_type": "markdown",
   "id": "e258bd03",
   "metadata": {
    "papermill": {
     "duration": 0.006902,
     "end_time": "2024-11-04T19:32:17.444736",
     "exception": false,
     "start_time": "2024-11-04T19:32:17.437834",
     "status": "completed"
    },
    "tags": []
   },
   "source": [
    "# Training the Model\n",
    "\n",
    "Now that we cleaned the data, let's train the model and determine its accuracy."
   ]
  },
  {
   "cell_type": "code",
   "execution_count": 14,
   "id": "bfb8c9a8",
   "metadata": {
    "execution": {
     "iopub.execute_input": "2024-11-04T19:32:17.460861Z",
     "iopub.status.busy": "2024-11-04T19:32:17.460457Z",
     "iopub.status.idle": "2024-11-04T19:32:20.107899Z",
     "shell.execute_reply": "2024-11-04T19:32:20.106810Z"
    },
    "papermill": {
     "duration": 2.658359,
     "end_time": "2024-11-04T19:32:20.110313",
     "exception": false,
     "start_time": "2024-11-04T19:32:17.451954",
     "status": "completed"
    },
    "tags": []
   },
   "outputs": [
    {
     "name": "stdout",
     "output_type": "stream",
     "text": [
      "Cross-Validation Accuracy Scores: [0.81564246 0.81460674 0.80898876 0.79213483 0.83146067]\n",
      "Mean Accuracy: 0.8125666938673028\n",
      "Standard Deviation of Accuracy: 0.012655964559655612\n"
     ]
    }
   ],
   "source": [
    "from sklearn.ensemble import RandomForestClassifier\n",
    "from sklearn.model_selection import cross_val_score, StratifiedKFold\n",
    "\n",
    "y = train_data[\"Survived\"]\n",
    "\n",
    "#features = [\"Pclass\", \"Age\", \"Sex\", \"Fare\", \"SibSp\", \"Parch\"]\n",
    "features = [\"Pclass\", \"Age\", \"Sex\"]\n",
    "X = pd.get_dummies(train_data[features])\n",
    "X_test = pd.get_dummies(test_data[features])\n",
    "\n",
    "model = RandomForestClassifier(n_estimators=100, max_depth=5, random_state=1)\n",
    "model.fit(X, y)\n",
    "\n",
    "kf = StratifiedKFold(n_splits=5, shuffle=True, random_state=42)\n",
    "\n",
    "scores = cross_val_score(model, X, y, cv=kf, scoring='accuracy')\n",
    "\n",
    "# Display the results\n",
    "print(f'Cross-Validation Accuracy Scores: {scores}')\n",
    "print(f'Mean Accuracy: {scores.mean()}')\n",
    "print(f'Standard Deviation of Accuracy: {scores.std()}')\n"
   ]
  },
  {
   "cell_type": "markdown",
   "id": "90af80d8",
   "metadata": {
    "papermill": {
     "duration": 0.007052,
     "end_time": "2024-11-04T19:32:20.124763",
     "exception": false,
     "start_time": "2024-11-04T19:32:20.117711",
     "status": "completed"
    },
    "tags": []
   },
   "source": [
    "Finally, we submit the result\n"
   ]
  },
  {
   "cell_type": "code",
   "execution_count": 15,
   "id": "68a5cee7",
   "metadata": {
    "execution": {
     "iopub.execute_input": "2024-11-04T19:32:20.141353Z",
     "iopub.status.busy": "2024-11-04T19:32:20.140799Z",
     "iopub.status.idle": "2024-11-04T19:32:20.161859Z",
     "shell.execute_reply": "2024-11-04T19:32:20.160620Z"
    },
    "papermill": {
     "duration": 0.032114,
     "end_time": "2024-11-04T19:32:20.164198",
     "exception": false,
     "start_time": "2024-11-04T19:32:20.132084",
     "status": "completed"
    },
    "tags": []
   },
   "outputs": [
    {
     "name": "stdout",
     "output_type": "stream",
     "text": [
      "Your submission was successfully saved!\n"
     ]
    }
   ],
   "source": [
    "predictions = model.predict(X_test)\n",
    "output = pd.DataFrame({'PassengerId': test_data.PassengerId, 'Survived': predictions})\n",
    "output.to_csv('submission.csv', index=False)\n",
    "print(\"Your submission was successfully saved!\")"
   ]
  }
 ],
 "metadata": {
  "kaggle": {
   "accelerator": "none",
   "dataSources": [
    {
     "databundleVersionId": 26502,
     "sourceId": 3136,
     "sourceType": "competition"
    }
   ],
   "dockerImageVersionId": 30775,
   "isGpuEnabled": false,
   "isInternetEnabled": false,
   "language": "python",
   "sourceType": "notebook"
  },
  "kernelspec": {
   "display_name": "Python 3",
   "language": "python",
   "name": "python3"
  },
  "language_info": {
   "codemirror_mode": {
    "name": "ipython",
    "version": 3
   },
   "file_extension": ".py",
   "mimetype": "text/x-python",
   "name": "python",
   "nbconvert_exporter": "python",
   "pygments_lexer": "ipython3",
   "version": "3.10.14"
  },
  "papermill": {
   "default_parameters": {},
   "duration": 7.367291,
   "end_time": "2024-11-04T19:32:20.792780",
   "environment_variables": {},
   "exception": null,
   "input_path": "__notebook__.ipynb",
   "output_path": "__notebook__.ipynb",
   "parameters": {},
   "start_time": "2024-11-04T19:32:13.425489",
   "version": "2.6.0"
  }
 },
 "nbformat": 4,
 "nbformat_minor": 5
}

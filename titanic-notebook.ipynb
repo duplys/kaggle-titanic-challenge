{
 "cells": [
  {
   "cell_type": "markdown",
   "id": "3a2358cb",
   "metadata": {
    "papermill": {
     "duration": 0.005211,
     "end_time": "2024-10-18T23:09:00.520640",
     "exception": false,
     "start_time": "2024-10-18T23:09:00.515429",
     "status": "completed"
    },
    "tags": []
   },
   "source": [
    "# Titanic Notebook\n",
    "\n",
    "This notebook is based on the excellent [Titanic Tutorial](https://www.kaggle.com/code/alexisbcook/titanic-tutorial) by [Alexis Cook](https://www.kaggle.com/alexisbcook). After running Alexis's code and making the initial submission, I started to explore ways for improving the prediction accuracy."
   ]
  },
  {
   "cell_type": "markdown",
   "id": "b240c8ae",
   "metadata": {
    "papermill": {
     "duration": 0.004255,
     "end_time": "2024-10-18T23:09:00.529616",
     "exception": false,
     "start_time": "2024-10-18T23:09:00.525361",
     "status": "completed"
    },
    "tags": []
   },
   "source": [
    "## Ideas for improving prediction accuracy\n",
    "\n",
    "**Augmenting missing data.** Titanic's training data is composed of 891 entries and test data is composed of 418 entries. A number of the 891 entries in Titanic's training data are missing some information, most notably:\n",
    "* the `Age` column, for which only 714 entries are non-null entries, and\n",
    "* the `Cabin` column, for which only 204 entries are non-null entries.\n",
    "\n",
    "Presumably &mdash; something we should confirm during the exploratory data analysis &mdash; the age of a passenger impacts their chances of survival. If you're, say, 5 years old or younger, you probably don't know how to swim and if you're 70 years old or older, you probably don't have the stamina to hold on for longer than 15 minutes or so.\n",
    "\n",
    "Moreover, the cabin of a passenger could also have an effect on their survival chances. According to [Wikipedia article on the sinking of the Titanic](https://en.wikipedia.org/wiki/Sinking_of_the_Titanic), the ship sank at 02:20 (ship's time) on 15 April 1912 after stricking an iceberg at 23:40 on 14 April. If the ship struck the iceberg 20 minutes before midnight, chances are that most passengers were in their cabins. Later on, when the ship sank, it might have been challenging to escape from cabins located in the ship's hull.\n",
    "\n",
    "Section [Survivors and victims](https://en.wikipedia.org/wiki/Titanic#Survivors_and_victims) in the Wikipedia's article states that the survival rates show stark differences for different classes aboard Titanic:\n",
    "\n",
    "> Although only 3% of first-class women were lost, 54% of those in third-class died. Similarly, five of six first-class and all second-class children survived, but 52 of the 79 in third-class perished. The differences by gender were even bigger: nearly all female crew members, first- and second-class passengers were saved. Men from the First Class died at a higher rate than women from the Third Class. In total, 50% of the children survived, 20% of the men and 75% of the women.\n",
    "\n",
    "So, my first idea was to augment the missing data.\n",
    "\n",
    "**Tuning hyperparameters.** tbd"
   ]
  },
  {
   "cell_type": "markdown",
   "id": "9cef2f8a",
   "metadata": {
    "papermill": {
     "duration": 0.004532,
     "end_time": "2024-10-18T23:09:00.538760",
     "exception": false,
     "start_time": "2024-10-18T23:09:00.534228",
     "status": "completed"
    },
    "tags": []
   },
   "source": [
    "# Load Data\n",
    "First things first, let's load the data."
   ]
  },
  {
   "cell_type": "code",
   "execution_count": 1,
   "id": "c0d8141b",
   "metadata": {
    "_cell_guid": "b1076dfc-b9ad-4769-8c92-a6c4dae69d19",
    "_uuid": "8f2839f25d086af736a60e9eeb907d3b93b6e0e5",
    "execution": {
     "iopub.execute_input": "2024-10-18T23:09:00.550401Z",
     "iopub.status.busy": "2024-10-18T23:09:00.549839Z",
     "iopub.status.idle": "2024-10-18T23:09:01.582140Z",
     "shell.execute_reply": "2024-10-18T23:09:01.580812Z"
    },
    "papermill": {
     "duration": 1.042105,
     "end_time": "2024-10-18T23:09:01.585403",
     "exception": false,
     "start_time": "2024-10-18T23:09:00.543298",
     "status": "completed"
    },
    "tags": []
   },
   "outputs": [
    {
     "name": "stdout",
     "output_type": "stream",
     "text": [
      "/kaggle/input/titanic/train.csv\n",
      "/kaggle/input/titanic/test.csv\n",
      "/kaggle/input/titanic/gender_submission.csv\n"
     ]
    }
   ],
   "source": [
    "# This Python 3 environment comes with many helpful analytic s libraries installed\n",
    "# It is defined by the kaggle/python Docker image: https://github.com/kaggle/docker-python\n",
    "# For example, here's several helpful packages to load\n",
    "\n",
    "import numpy as np # linear algebra\n",
    "import pandas as pd # data processing, CSV file I/O (e.g. pd.read_csv)\n",
    "\n",
    "# Input data files are available in the read-only \"../input/\" directory\n",
    "# For example, running this (by clicking run or pressing Shift+Enter) will list all files under the input directory\n",
    "\n",
    "import os\n",
    "for dirname, _, filenames in os.walk('/kaggle/input'):\n",
    "    for filename in filenames:\n",
    "        print(os.path.join(dirname, filename))\n",
    "\n",
    "# You can write up to 20GB to the current directory (/kaggle/working/) that gets preserved as output when you create a version using \"Save & Run All\" \n",
    "# You can also write temporary files to /kaggle/temp/, but they won't be saved outside of the current session\n"
   ]
  },
  {
   "cell_type": "markdown",
   "id": "2392ac31",
   "metadata": {
    "papermill": {
     "duration": 0.005108,
     "end_time": "2024-10-18T23:09:01.595700",
     "exception": false,
     "start_time": "2024-10-18T23:09:01.590592",
     "status": "completed"
    },
    "tags": []
   },
   "source": [
    "# Exploratory Data Analysis\n",
    "\n",
    "Let's take a look at the training data and the test data."
   ]
  },
  {
   "cell_type": "code",
   "execution_count": 2,
   "id": "61355422",
   "metadata": {
    "execution": {
     "iopub.execute_input": "2024-10-18T23:09:01.610014Z",
     "iopub.status.busy": "2024-10-18T23:09:01.609397Z",
     "iopub.status.idle": "2024-10-18T23:09:01.657354Z",
     "shell.execute_reply": "2024-10-18T23:09:01.656215Z"
    },
    "papermill": {
     "duration": 0.058686,
     "end_time": "2024-10-18T23:09:01.659996",
     "exception": false,
     "start_time": "2024-10-18T23:09:01.601310",
     "status": "completed"
    },
    "tags": []
   },
   "outputs": [
    {
     "data": {
      "text/html": [
       "<div>\n",
       "<style scoped>\n",
       "    .dataframe tbody tr th:only-of-type {\n",
       "        vertical-align: middle;\n",
       "    }\n",
       "\n",
       "    .dataframe tbody tr th {\n",
       "        vertical-align: top;\n",
       "    }\n",
       "\n",
       "    .dataframe thead th {\n",
       "        text-align: right;\n",
       "    }\n",
       "</style>\n",
       "<table border=\"1\" class=\"dataframe\">\n",
       "  <thead>\n",
       "    <tr style=\"text-align: right;\">\n",
       "      <th></th>\n",
       "      <th>PassengerId</th>\n",
       "      <th>Survived</th>\n",
       "      <th>Pclass</th>\n",
       "      <th>Name</th>\n",
       "      <th>Sex</th>\n",
       "      <th>Age</th>\n",
       "      <th>SibSp</th>\n",
       "      <th>Parch</th>\n",
       "      <th>Ticket</th>\n",
       "      <th>Fare</th>\n",
       "      <th>Cabin</th>\n",
       "      <th>Embarked</th>\n",
       "    </tr>\n",
       "  </thead>\n",
       "  <tbody>\n",
       "    <tr>\n",
       "      <th>0</th>\n",
       "      <td>1</td>\n",
       "      <td>0</td>\n",
       "      <td>3</td>\n",
       "      <td>Braund, Mr. Owen Harris</td>\n",
       "      <td>male</td>\n",
       "      <td>22.0</td>\n",
       "      <td>1</td>\n",
       "      <td>0</td>\n",
       "      <td>A/5 21171</td>\n",
       "      <td>7.2500</td>\n",
       "      <td>NaN</td>\n",
       "      <td>S</td>\n",
       "    </tr>\n",
       "    <tr>\n",
       "      <th>1</th>\n",
       "      <td>2</td>\n",
       "      <td>1</td>\n",
       "      <td>1</td>\n",
       "      <td>Cumings, Mrs. John Bradley (Florence Briggs Th...</td>\n",
       "      <td>female</td>\n",
       "      <td>38.0</td>\n",
       "      <td>1</td>\n",
       "      <td>0</td>\n",
       "      <td>PC 17599</td>\n",
       "      <td>71.2833</td>\n",
       "      <td>C85</td>\n",
       "      <td>C</td>\n",
       "    </tr>\n",
       "    <tr>\n",
       "      <th>2</th>\n",
       "      <td>3</td>\n",
       "      <td>1</td>\n",
       "      <td>3</td>\n",
       "      <td>Heikkinen, Miss. Laina</td>\n",
       "      <td>female</td>\n",
       "      <td>26.0</td>\n",
       "      <td>0</td>\n",
       "      <td>0</td>\n",
       "      <td>STON/O2. 3101282</td>\n",
       "      <td>7.9250</td>\n",
       "      <td>NaN</td>\n",
       "      <td>S</td>\n",
       "    </tr>\n",
       "    <tr>\n",
       "      <th>3</th>\n",
       "      <td>4</td>\n",
       "      <td>1</td>\n",
       "      <td>1</td>\n",
       "      <td>Futrelle, Mrs. Jacques Heath (Lily May Peel)</td>\n",
       "      <td>female</td>\n",
       "      <td>35.0</td>\n",
       "      <td>1</td>\n",
       "      <td>0</td>\n",
       "      <td>113803</td>\n",
       "      <td>53.1000</td>\n",
       "      <td>C123</td>\n",
       "      <td>S</td>\n",
       "    </tr>\n",
       "    <tr>\n",
       "      <th>4</th>\n",
       "      <td>5</td>\n",
       "      <td>0</td>\n",
       "      <td>3</td>\n",
       "      <td>Allen, Mr. William Henry</td>\n",
       "      <td>male</td>\n",
       "      <td>35.0</td>\n",
       "      <td>0</td>\n",
       "      <td>0</td>\n",
       "      <td>373450</td>\n",
       "      <td>8.0500</td>\n",
       "      <td>NaN</td>\n",
       "      <td>S</td>\n",
       "    </tr>\n",
       "  </tbody>\n",
       "</table>\n",
       "</div>"
      ],
      "text/plain": [
       "   PassengerId  Survived  Pclass  \\\n",
       "0            1         0       3   \n",
       "1            2         1       1   \n",
       "2            3         1       3   \n",
       "3            4         1       1   \n",
       "4            5         0       3   \n",
       "\n",
       "                                                Name     Sex   Age  SibSp  \\\n",
       "0                            Braund, Mr. Owen Harris    male  22.0      1   \n",
       "1  Cumings, Mrs. John Bradley (Florence Briggs Th...  female  38.0      1   \n",
       "2                             Heikkinen, Miss. Laina  female  26.0      0   \n",
       "3       Futrelle, Mrs. Jacques Heath (Lily May Peel)  female  35.0      1   \n",
       "4                           Allen, Mr. William Henry    male  35.0      0   \n",
       "\n",
       "   Parch            Ticket     Fare Cabin Embarked  \n",
       "0      0         A/5 21171   7.2500   NaN        S  \n",
       "1      0          PC 17599  71.2833   C85        C  \n",
       "2      0  STON/O2. 3101282   7.9250   NaN        S  \n",
       "3      0            113803  53.1000  C123        S  \n",
       "4      0            373450   8.0500   NaN        S  "
      ]
     },
     "execution_count": 2,
     "metadata": {},
     "output_type": "execute_result"
    }
   ],
   "source": [
    "train_data = pd.read_csv(\"/kaggle/input/titanic/train.csv\")\n",
    "train_data.head()"
   ]
  },
  {
   "cell_type": "code",
   "execution_count": 3,
   "id": "6cbb3b30",
   "metadata": {
    "execution": {
     "iopub.execute_input": "2024-10-18T23:09:01.672361Z",
     "iopub.status.busy": "2024-10-18T23:09:01.671937Z",
     "iopub.status.idle": "2024-10-18T23:09:01.695685Z",
     "shell.execute_reply": "2024-10-18T23:09:01.694262Z"
    },
    "papermill": {
     "duration": 0.033227,
     "end_time": "2024-10-18T23:09:01.698589",
     "exception": false,
     "start_time": "2024-10-18T23:09:01.665362",
     "status": "completed"
    },
    "tags": []
   },
   "outputs": [
    {
     "data": {
      "text/html": [
       "<div>\n",
       "<style scoped>\n",
       "    .dataframe tbody tr th:only-of-type {\n",
       "        vertical-align: middle;\n",
       "    }\n",
       "\n",
       "    .dataframe tbody tr th {\n",
       "        vertical-align: top;\n",
       "    }\n",
       "\n",
       "    .dataframe thead th {\n",
       "        text-align: right;\n",
       "    }\n",
       "</style>\n",
       "<table border=\"1\" class=\"dataframe\">\n",
       "  <thead>\n",
       "    <tr style=\"text-align: right;\">\n",
       "      <th></th>\n",
       "      <th>PassengerId</th>\n",
       "      <th>Pclass</th>\n",
       "      <th>Name</th>\n",
       "      <th>Sex</th>\n",
       "      <th>Age</th>\n",
       "      <th>SibSp</th>\n",
       "      <th>Parch</th>\n",
       "      <th>Ticket</th>\n",
       "      <th>Fare</th>\n",
       "      <th>Cabin</th>\n",
       "      <th>Embarked</th>\n",
       "    </tr>\n",
       "  </thead>\n",
       "  <tbody>\n",
       "    <tr>\n",
       "      <th>0</th>\n",
       "      <td>892</td>\n",
       "      <td>3</td>\n",
       "      <td>Kelly, Mr. James</td>\n",
       "      <td>male</td>\n",
       "      <td>34.5</td>\n",
       "      <td>0</td>\n",
       "      <td>0</td>\n",
       "      <td>330911</td>\n",
       "      <td>7.8292</td>\n",
       "      <td>NaN</td>\n",
       "      <td>Q</td>\n",
       "    </tr>\n",
       "    <tr>\n",
       "      <th>1</th>\n",
       "      <td>893</td>\n",
       "      <td>3</td>\n",
       "      <td>Wilkes, Mrs. James (Ellen Needs)</td>\n",
       "      <td>female</td>\n",
       "      <td>47.0</td>\n",
       "      <td>1</td>\n",
       "      <td>0</td>\n",
       "      <td>363272</td>\n",
       "      <td>7.0000</td>\n",
       "      <td>NaN</td>\n",
       "      <td>S</td>\n",
       "    </tr>\n",
       "    <tr>\n",
       "      <th>2</th>\n",
       "      <td>894</td>\n",
       "      <td>2</td>\n",
       "      <td>Myles, Mr. Thomas Francis</td>\n",
       "      <td>male</td>\n",
       "      <td>62.0</td>\n",
       "      <td>0</td>\n",
       "      <td>0</td>\n",
       "      <td>240276</td>\n",
       "      <td>9.6875</td>\n",
       "      <td>NaN</td>\n",
       "      <td>Q</td>\n",
       "    </tr>\n",
       "    <tr>\n",
       "      <th>3</th>\n",
       "      <td>895</td>\n",
       "      <td>3</td>\n",
       "      <td>Wirz, Mr. Albert</td>\n",
       "      <td>male</td>\n",
       "      <td>27.0</td>\n",
       "      <td>0</td>\n",
       "      <td>0</td>\n",
       "      <td>315154</td>\n",
       "      <td>8.6625</td>\n",
       "      <td>NaN</td>\n",
       "      <td>S</td>\n",
       "    </tr>\n",
       "    <tr>\n",
       "      <th>4</th>\n",
       "      <td>896</td>\n",
       "      <td>3</td>\n",
       "      <td>Hirvonen, Mrs. Alexander (Helga E Lindqvist)</td>\n",
       "      <td>female</td>\n",
       "      <td>22.0</td>\n",
       "      <td>1</td>\n",
       "      <td>1</td>\n",
       "      <td>3101298</td>\n",
       "      <td>12.2875</td>\n",
       "      <td>NaN</td>\n",
       "      <td>S</td>\n",
       "    </tr>\n",
       "  </tbody>\n",
       "</table>\n",
       "</div>"
      ],
      "text/plain": [
       "   PassengerId  Pclass                                          Name     Sex  \\\n",
       "0          892       3                              Kelly, Mr. James    male   \n",
       "1          893       3              Wilkes, Mrs. James (Ellen Needs)  female   \n",
       "2          894       2                     Myles, Mr. Thomas Francis    male   \n",
       "3          895       3                              Wirz, Mr. Albert    male   \n",
       "4          896       3  Hirvonen, Mrs. Alexander (Helga E Lindqvist)  female   \n",
       "\n",
       "    Age  SibSp  Parch   Ticket     Fare Cabin Embarked  \n",
       "0  34.5      0      0   330911   7.8292   NaN        Q  \n",
       "1  47.0      1      0   363272   7.0000   NaN        S  \n",
       "2  62.0      0      0   240276   9.6875   NaN        Q  \n",
       "3  27.0      0      0   315154   8.6625   NaN        S  \n",
       "4  22.0      1      1  3101298  12.2875   NaN        S  "
      ]
     },
     "execution_count": 3,
     "metadata": {},
     "output_type": "execute_result"
    }
   ],
   "source": [
    "test_data = pd.read_csv(\"/kaggle/input/titanic/test.csv\")\n",
    "test_data.head()"
   ]
  },
  {
   "cell_type": "markdown",
   "id": "532b53cf",
   "metadata": {
    "papermill": {
     "duration": 0.005995,
     "end_time": "2024-10-18T23:09:01.710758",
     "exception": false,
     "start_time": "2024-10-18T23:09:01.704763",
     "status": "completed"
    },
    "tags": []
   },
   "source": [
    "The first observation from Alexis tutorial is that the survival rate of women are much higher than that of men:"
   ]
  },
  {
   "cell_type": "code",
   "execution_count": 4,
   "id": "91e9c789",
   "metadata": {
    "execution": {
     "iopub.execute_input": "2024-10-18T23:09:01.724501Z",
     "iopub.status.busy": "2024-10-18T23:09:01.723551Z",
     "iopub.status.idle": "2024-10-18T23:09:01.742040Z",
     "shell.execute_reply": "2024-10-18T23:09:01.740567Z"
    },
    "papermill": {
     "duration": 0.028276,
     "end_time": "2024-10-18T23:09:01.744537",
     "exception": false,
     "start_time": "2024-10-18T23:09:01.716261",
     "status": "completed"
    },
    "tags": []
   },
   "outputs": [
    {
     "name": "stdout",
     "output_type": "stream",
     "text": [
      "% of women who survived: 0.7420382165605095\n",
      "% of men who survived: 0.18890814558058924\n"
     ]
    }
   ],
   "source": [
    "women = train_data.loc[train_data.Sex == 'female'][\"Survived\"]\n",
    "rate_women = sum(women)/len(women)\n",
    "men = train_data.loc[train_data.Sex == 'male'][\"Survived\"]\n",
    "rate_men = sum(men)/len(men)\n",
    "\n",
    "print(\"% of women who survived:\", rate_women)\n",
    "print(\"% of men who survived:\", rate_men)"
   ]
  },
  {
   "cell_type": "markdown",
   "id": "111bd83f",
   "metadata": {
    "papermill": {
     "duration": 0.005905,
     "end_time": "2024-10-18T23:09:01.756848",
     "exception": false,
     "start_time": "2024-10-18T23:09:01.750943",
     "status": "completed"
    },
    "tags": []
   },
   "source": [
    "Next, let's check whether we have entries with missing values (`NaN`) in our training data."
   ]
  },
  {
   "cell_type": "code",
   "execution_count": 5,
   "id": "e703b07b",
   "metadata": {
    "execution": {
     "iopub.execute_input": "2024-10-18T23:09:01.769482Z",
     "iopub.status.busy": "2024-10-18T23:09:01.769085Z",
     "iopub.status.idle": "2024-10-18T23:09:01.793423Z",
     "shell.execute_reply": "2024-10-18T23:09:01.791630Z"
    },
    "papermill": {
     "duration": 0.033922,
     "end_time": "2024-10-18T23:09:01.796296",
     "exception": false,
     "start_time": "2024-10-18T23:09:01.762374",
     "status": "completed"
    },
    "tags": []
   },
   "outputs": [
    {
     "name": "stdout",
     "output_type": "stream",
     "text": [
      "<class 'pandas.core.frame.DataFrame'>\n",
      "RangeIndex: 891 entries, 0 to 890\n",
      "Data columns (total 12 columns):\n",
      " #   Column       Non-Null Count  Dtype  \n",
      "---  ------       --------------  -----  \n",
      " 0   PassengerId  891 non-null    int64  \n",
      " 1   Survived     891 non-null    int64  \n",
      " 2   Pclass       891 non-null    int64  \n",
      " 3   Name         891 non-null    object \n",
      " 4   Sex          891 non-null    object \n",
      " 5   Age          714 non-null    float64\n",
      " 6   SibSp        891 non-null    int64  \n",
      " 7   Parch        891 non-null    int64  \n",
      " 8   Ticket       891 non-null    object \n",
      " 9   Fare         891 non-null    float64\n",
      " 10  Cabin        204 non-null    object \n",
      " 11  Embarked     889 non-null    object \n",
      "dtypes: float64(2), int64(5), object(5)\n",
      "memory usage: 83.7+ KB\n"
     ]
    }
   ],
   "source": [
    "# How many NaNs do we have in our training data?\n",
    "train_data.info()"
   ]
  },
  {
   "cell_type": "code",
   "execution_count": 6,
   "id": "a2461bd1",
   "metadata": {
    "execution": {
     "iopub.execute_input": "2024-10-18T23:09:01.810036Z",
     "iopub.status.busy": "2024-10-18T23:09:01.809610Z",
     "iopub.status.idle": "2024-10-18T23:09:01.825965Z",
     "shell.execute_reply": "2024-10-18T23:09:01.823490Z"
    },
    "papermill": {
     "duration": 0.027517,
     "end_time": "2024-10-18T23:09:01.829755",
     "exception": false,
     "start_time": "2024-10-18T23:09:01.802238",
     "status": "completed"
    },
    "tags": []
   },
   "outputs": [
    {
     "name": "stdout",
     "output_type": "stream",
     "text": [
      "<class 'pandas.core.frame.DataFrame'>\n",
      "RangeIndex: 418 entries, 0 to 417\n",
      "Data columns (total 11 columns):\n",
      " #   Column       Non-Null Count  Dtype  \n",
      "---  ------       --------------  -----  \n",
      " 0   PassengerId  418 non-null    int64  \n",
      " 1   Pclass       418 non-null    int64  \n",
      " 2   Name         418 non-null    object \n",
      " 3   Sex          418 non-null    object \n",
      " 4   Age          332 non-null    float64\n",
      " 5   SibSp        418 non-null    int64  \n",
      " 6   Parch        418 non-null    int64  \n",
      " 7   Ticket       418 non-null    object \n",
      " 8   Fare         417 non-null    float64\n",
      " 9   Cabin        91 non-null     object \n",
      " 10  Embarked     418 non-null    object \n",
      "dtypes: float64(2), int64(4), object(5)\n",
      "memory usage: 36.0+ KB\n"
     ]
    }
   ],
   "source": [
    "# How many NaNs do we have in our test data?\n",
    "test_data.info()"
   ]
  },
  {
   "cell_type": "markdown",
   "id": "5c02ffa6",
   "metadata": {
    "papermill": {
     "duration": 0.005542,
     "end_time": "2024-10-18T23:09:01.842346",
     "exception": false,
     "start_time": "2024-10-18T23:09:01.836804",
     "status": "completed"
    },
    "tags": []
   },
   "source": [
    "So, let's see what the entries with missing age look like."
   ]
  },
  {
   "cell_type": "code",
   "execution_count": 7,
   "id": "c49e0a81",
   "metadata": {
    "execution": {
     "iopub.execute_input": "2024-10-18T23:09:01.856309Z",
     "iopub.status.busy": "2024-10-18T23:09:01.855879Z",
     "iopub.status.idle": "2024-10-18T23:09:01.861321Z",
     "shell.execute_reply": "2024-10-18T23:09:01.860179Z"
    },
    "papermill": {
     "duration": 0.015472,
     "end_time": "2024-10-18T23:09:01.864104",
     "exception": false,
     "start_time": "2024-10-18T23:09:01.848632",
     "status": "completed"
    },
    "tags": []
   },
   "outputs": [],
   "source": [
    "# Select all passengers where Age is null\n",
    "#train_data_no_age = train_data[train_data[\"Age\"].isnull()]\n",
    "\n",
    "#for index, row in train_data_no_age.iterrows():\n",
    "#    print(f\"Index: {index}, Values: {row.values}\") # or a custom format"
   ]
  },
  {
   "cell_type": "markdown",
   "id": "001f3665",
   "metadata": {
    "papermill": {
     "duration": 0.006467,
     "end_time": "2024-10-18T23:09:01.876487",
     "exception": false,
     "start_time": "2024-10-18T23:09:01.870020",
     "status": "completed"
    },
    "tags": []
   },
   "source": [
    "Now that we know that some entries both in training and in test data are missing values for \"Age\", let's fix it. The idea is to assign the missing age based on the passenger's title. We can do this by taking the median for passengers with different titles (Master, Miss./Ms., Mrs., Mr.)"
   ]
  },
  {
   "cell_type": "code",
   "execution_count": 8,
   "id": "f8297a96",
   "metadata": {
    "execution": {
     "iopub.execute_input": "2024-10-18T23:09:01.890440Z",
     "iopub.status.busy": "2024-10-18T23:09:01.890026Z",
     "iopub.status.idle": "2024-10-18T23:09:01.910689Z",
     "shell.execute_reply": "2024-10-18T23:09:01.909374Z"
    },
    "papermill": {
     "duration": 0.030869,
     "end_time": "2024-10-18T23:09:01.913670",
     "exception": false,
     "start_time": "2024-10-18T23:09:01.882801",
     "status": "completed"
    },
    "tags": []
   },
   "outputs": [
    {
     "name": "stdout",
     "output_type": "stream",
     "text": [
      "{'Master': 3.5, 'Miss.': 21.0, 'Ms.': 28.0, 'Mrs.': 35.0, 'Mr.': 31.0}\n"
     ]
    }
   ],
   "source": [
    "title_age = {\"Master\": 0, \"Miss.\": 0, \"Ms.\": 0, \"Mrs.\": 0, \"Mr.\": 0}\n",
    "\n",
    "for key in title_age:\n",
    "    age_data = train_data[(train_data['Name'].str.contains(key, na=False)) & (train_data['Age'].notnull())]\n",
    "    title_age[key] = age_data[\"Age\"].median()\n",
    "\n",
    "print(title_age)"
   ]
  },
  {
   "cell_type": "code",
   "execution_count": 9,
   "id": "8e226e84",
   "metadata": {
    "execution": {
     "iopub.execute_input": "2024-10-18T23:09:01.927332Z",
     "iopub.status.busy": "2024-10-18T23:09:01.926934Z",
     "iopub.status.idle": "2024-10-18T23:09:01.972445Z",
     "shell.execute_reply": "2024-10-18T23:09:01.970865Z"
    },
    "papermill": {
     "duration": 0.056137,
     "end_time": "2024-10-18T23:09:01.975879",
     "exception": false,
     "start_time": "2024-10-18T23:09:01.919742",
     "status": "completed"
    },
    "tags": []
   },
   "outputs": [
    {
     "name": "stdout",
     "output_type": "stream",
     "text": [
      "<class 'pandas.core.frame.DataFrame'>\n",
      "RangeIndex: 891 entries, 0 to 890\n",
      "Data columns (total 12 columns):\n",
      " #   Column       Non-Null Count  Dtype  \n",
      "---  ------       --------------  -----  \n",
      " 0   PassengerId  891 non-null    int64  \n",
      " 1   Survived     891 non-null    int64  \n",
      " 2   Pclass       891 non-null    int64  \n",
      " 3   Name         891 non-null    object \n",
      " 4   Sex          891 non-null    object \n",
      " 5   Age          714 non-null    float64\n",
      " 6   SibSp        891 non-null    int64  \n",
      " 7   Parch        891 non-null    int64  \n",
      " 8   Ticket       891 non-null    object \n",
      " 9   Fare         891 non-null    float64\n",
      " 10  Cabin        204 non-null    object \n",
      " 11  Embarked     889 non-null    object \n",
      "dtypes: float64(2), int64(5), object(5)\n",
      "memory usage: 83.7+ KB\n",
      "<class 'pandas.core.frame.DataFrame'>\n",
      "RangeIndex: 418 entries, 0 to 417\n",
      "Data columns (total 11 columns):\n",
      " #   Column       Non-Null Count  Dtype  \n",
      "---  ------       --------------  -----  \n",
      " 0   PassengerId  418 non-null    int64  \n",
      " 1   Pclass       418 non-null    int64  \n",
      " 2   Name         418 non-null    object \n",
      " 3   Sex          418 non-null    object \n",
      " 4   Age          332 non-null    float64\n",
      " 5   SibSp        418 non-null    int64  \n",
      " 6   Parch        418 non-null    int64  \n",
      " 7   Ticket       418 non-null    object \n",
      " 8   Fare         417 non-null    float64\n",
      " 9   Cabin        91 non-null     object \n",
      " 10  Embarked     418 non-null    object \n",
      "dtypes: float64(2), int64(4), object(5)\n",
      "memory usage: 36.0+ KB\n"
     ]
    },
    {
     "name": "stderr",
     "output_type": "stream",
     "text": [
      "/tmp/ipykernel_17/1468498274.py:3: FutureWarning: Downcasting object dtype arrays on .fillna, .ffill, .bfill is deprecated and will change in a future version. Call result.infer_objects(copy=False) instead. To opt-in to the future behavior, set `pd.set_option('future.no_silent_downcasting', True)`\n",
      "  train_data[(train_data['Name'].str.contains(key, na=False)) & (train_data['Age'].isnull())].fillna(title_age[key], inplace=True)\n",
      "/tmp/ipykernel_17/1468498274.py:3: SettingWithCopyWarning: \n",
      "A value is trying to be set on a copy of a slice from a DataFrame\n",
      "\n",
      "See the caveats in the documentation: https://pandas.pydata.org/pandas-docs/stable/user_guide/indexing.html#returning-a-view-versus-a-copy\n",
      "  train_data[(train_data['Name'].str.contains(key, na=False)) & (train_data['Age'].isnull())].fillna(title_age[key], inplace=True)\n",
      "/tmp/ipykernel_17/1468498274.py:4: FutureWarning: Downcasting object dtype arrays on .fillna, .ffill, .bfill is deprecated and will change in a future version. Call result.infer_objects(copy=False) instead. To opt-in to the future behavior, set `pd.set_option('future.no_silent_downcasting', True)`\n",
      "  test_data[(test_data['Name'].str.contains(key, na=False)) & (test_data['Age'].isnull())].fillna(title_age[key], inplace=True)\n",
      "/tmp/ipykernel_17/1468498274.py:4: SettingWithCopyWarning: \n",
      "A value is trying to be set on a copy of a slice from a DataFrame\n",
      "\n",
      "See the caveats in the documentation: https://pandas.pydata.org/pandas-docs/stable/user_guide/indexing.html#returning-a-view-versus-a-copy\n",
      "  test_data[(test_data['Name'].str.contains(key, na=False)) & (test_data['Age'].isnull())].fillna(title_age[key], inplace=True)\n"
     ]
    }
   ],
   "source": [
    "for key in title_age:\n",
    "    #missing_data = train_data[(train_data['Name'].str.contains(key, na=False)) & (train_data['Age'].isnull())]\n",
    "    train_data[(train_data['Name'].str.contains(key, na=False)) & (train_data['Age'].isnull())].fillna(title_age[key], inplace=True)\n",
    "    test_data[(test_data['Name'].str.contains(key, na=False)) & (test_data['Age'].isnull())].fillna(title_age[key], inplace=True)\n",
    "    \n",
    "train_data.info()\n",
    "test_data.info()"
   ]
  },
  {
   "cell_type": "markdown",
   "id": "41b4af35",
   "metadata": {
    "papermill": {
     "duration": 0.00676,
     "end_time": "2024-10-18T23:09:01.989193",
     "exception": false,
     "start_time": "2024-10-18T23:09:01.982433",
     "status": "completed"
    },
    "tags": []
   },
   "source": [
    "# Cleaning Data\n",
    "\n",
    "We want to fill up the `NaN` values with reasonable data."
   ]
  },
  {
   "cell_type": "code",
   "execution_count": 10,
   "id": "abdee42f",
   "metadata": {
    "execution": {
     "iopub.execute_input": "2024-10-18T23:09:02.005078Z",
     "iopub.status.busy": "2024-10-18T23:09:02.004637Z",
     "iopub.status.idle": "2024-10-18T23:09:02.013856Z",
     "shell.execute_reply": "2024-10-18T23:09:02.012649Z"
    },
    "papermill": {
     "duration": 0.019834,
     "end_time": "2024-10-18T23:09:02.016612",
     "exception": false,
     "start_time": "2024-10-18T23:09:01.996778",
     "status": "completed"
    },
    "tags": []
   },
   "outputs": [
    {
     "name": "stderr",
     "output_type": "stream",
     "text": [
      "/tmp/ipykernel_17/2940277791.py:2: FutureWarning: A value is trying to be set on a copy of a DataFrame or Series through chained assignment using an inplace method.\n",
      "The behavior will change in pandas 3.0. This inplace method will never work because the intermediate object on which we are setting values always behaves as a copy.\n",
      "\n",
      "For example, when doing 'df[col].method(value, inplace=True)', try using 'df.method({col: value}, inplace=True)' or df[col] = df[col].method(value) instead, to perform the operation inplace on the original object.\n",
      "\n",
      "\n",
      "  train_data['Age'].fillna(train_data['Age'].median(), inplace=True)\n",
      "/tmp/ipykernel_17/2940277791.py:5: FutureWarning: A value is trying to be set on a copy of a DataFrame or Series through chained assignment using an inplace method.\n",
      "The behavior will change in pandas 3.0. This inplace method will never work because the intermediate object on which we are setting values always behaves as a copy.\n",
      "\n",
      "For example, when doing 'df[col].method(value, inplace=True)', try using 'df.method({col: value}, inplace=True)' or df[col] = df[col].method(value) instead, to perform the operation inplace on the original object.\n",
      "\n",
      "\n",
      "  test_data['Age'].fillna(test_data['Age'].median(), inplace=True)\n"
     ]
    }
   ],
   "source": [
    "# Clean the training data\n",
    "train_data['Age'].fillna(train_data['Age'].median(), inplace=True)\n",
    "\n",
    "# Clean test data\n",
    "test_data['Age'].fillna(test_data['Age'].median(), inplace=True)"
   ]
  },
  {
   "cell_type": "code",
   "execution_count": 11,
   "id": "78a8fb8b",
   "metadata": {
    "execution": {
     "iopub.execute_input": "2024-10-18T23:09:02.032963Z",
     "iopub.status.busy": "2024-10-18T23:09:02.032476Z",
     "iopub.status.idle": "2024-10-18T23:09:05.275659Z",
     "shell.execute_reply": "2024-10-18T23:09:05.273952Z"
    },
    "papermill": {
     "duration": 3.255479,
     "end_time": "2024-10-18T23:09:05.278543",
     "exception": false,
     "start_time": "2024-10-18T23:09:02.023064",
     "status": "completed"
    },
    "tags": []
   },
   "outputs": [
    {
     "name": "stdout",
     "output_type": "stream",
     "text": [
      "Cross-Validation Accuracy Scores: [0.83798883 0.81460674 0.80898876 0.80898876 0.85393258]\n",
      "Mean Accuracy: 0.8249011361496453\n",
      "Standard Deviation of Accuracy: 0.018036043682637486\n"
     ]
    }
   ],
   "source": [
    "from sklearn.ensemble import RandomForestClassifier\n",
    "from sklearn.model_selection import cross_val_score, StratifiedKFold\n",
    "\n",
    "y = train_data[\"Survived\"]\n",
    "\n",
    "features = [\"Pclass\", \"Age\", \"Sex\", \"SibSp\", \"Parch\"]\n",
    "X = pd.get_dummies(train_data[features])\n",
    "X_test = pd.get_dummies(test_data[features])\n",
    "\n",
    "model = RandomForestClassifier(n_estimators=100, max_depth=5, random_state=1)\n",
    "model.fit(X, y)\n",
    "\n",
    "kf = StratifiedKFold(n_splits=5, shuffle=True, random_state=42)\n",
    "\n",
    "scores = cross_val_score(model, X, y, cv=kf, scoring='accuracy')\n",
    "\n",
    "# Display the results\n",
    "print(f'Cross-Validation Accuracy Scores: {scores}')\n",
    "print(f'Mean Accuracy: {scores.mean()}')\n",
    "print(f'Standard Deviation of Accuracy: {scores.std()}')\n"
   ]
  },
  {
   "cell_type": "markdown",
   "id": "2348c8c0",
   "metadata": {
    "papermill": {
     "duration": 0.006167,
     "end_time": "2024-10-18T23:09:05.291151",
     "exception": false,
     "start_time": "2024-10-18T23:09:05.284984",
     "status": "completed"
    },
    "tags": []
   },
   "source": [
    "Finally, we submit the result\n"
   ]
  },
  {
   "cell_type": "code",
   "execution_count": 12,
   "id": "a65d6e0e",
   "metadata": {
    "execution": {
     "iopub.execute_input": "2024-10-18T23:09:05.305702Z",
     "iopub.status.busy": "2024-10-18T23:09:05.305088Z",
     "iopub.status.idle": "2024-10-18T23:09:05.327766Z",
     "shell.execute_reply": "2024-10-18T23:09:05.326569Z"
    },
    "papermill": {
     "duration": 0.032684,
     "end_time": "2024-10-18T23:09:05.330169",
     "exception": false,
     "start_time": "2024-10-18T23:09:05.297485",
     "status": "completed"
    },
    "tags": []
   },
   "outputs": [
    {
     "name": "stdout",
     "output_type": "stream",
     "text": [
      "Your submission was successfully saved!\n"
     ]
    }
   ],
   "source": [
    "predictions = model.predict(X_test)\n",
    "output = pd.DataFrame({'PassengerId': test_data.PassengerId, 'Survived': predictions})\n",
    "output.to_csv('submission.csv', index=False)\n",
    "print(\"Your submission was successfully saved!\")"
   ]
  }
 ],
 "metadata": {
  "kaggle": {
   "accelerator": "none",
   "dataSources": [
    {
     "databundleVersionId": 26502,
     "sourceId": 3136,
     "sourceType": "competition"
    }
   ],
   "dockerImageVersionId": 30775,
   "isGpuEnabled": false,
   "isInternetEnabled": false,
   "language": "python",
   "sourceType": "notebook"
  },
  "kernelspec": {
   "display_name": "Python 3",
   "language": "python",
   "name": "python3"
  },
  "language_info": {
   "codemirror_mode": {
    "name": "ipython",
    "version": 3
   },
   "file_extension": ".py",
   "mimetype": "text/x-python",
   "name": "python",
   "nbconvert_exporter": "python",
   "pygments_lexer": "ipython3",
   "version": "3.10.14"
  },
  "papermill": {
   "default_parameters": {},
   "duration": 8.534218,
   "end_time": "2024-10-18T23:09:05.958676",
   "environment_variables": {},
   "exception": null,
   "input_path": "__notebook__.ipynb",
   "output_path": "__notebook__.ipynb",
   "parameters": {},
   "start_time": "2024-10-18T23:08:57.424458",
   "version": "2.6.0"
  }
 },
 "nbformat": 4,
 "nbformat_minor": 5
}
